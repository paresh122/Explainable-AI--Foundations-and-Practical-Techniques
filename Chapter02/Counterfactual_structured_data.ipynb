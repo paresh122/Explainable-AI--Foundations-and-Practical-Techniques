{
 "cells": [
  {
   "cell_type": "markdown",
   "metadata": {},
   "source": [
    "## Counterfactual Explanation on Structured Data\n",
    "### CHAPTER 02 - *Model Explainability Methods*\n",
    "\n",
    "From **Applied Machine Learning Explainability Techniques** by [**Aditya Bhattacharya**](https://www.linkedin.com/in/aditya-bhattacharya-b59155b6/), published by **Packt**"
   ]
  },
  {
   "cell_type": "markdown",
   "metadata": {},
   "source": [
    "### Objective\n",
    "\n",
    "In this notebook, we will try to implement some of the concepts related to Counterfactual explanations part of the Example based explainability methods discussed in Chapter 2 - Model Explainability Methods"
   ]
  },
  {
   "cell_type": "markdown",
   "metadata": {},
   "source": [
    "### Installing the modules"
   ]
  },
  {
   "cell_type": "markdown",
   "metadata": {},
   "source": [
    "Install the following libraries in Google Colab or your local environment, if not already installed."
   ]
  },
  {
   "cell_type": "code",
   "execution_count": 1,
   "metadata": {},
   "outputs": [],
   "source": [
    "!pip install --upgrade pandas numpy scikit-learn tensorflow dice-ml alibi"
   ]
  },
  {
   "cell_type": "markdown",
   "metadata": {},
   "source": [
    "### Loading the modules"
   ]
  },
  {
   "cell_type": "code",
   "execution_count": 2,
   "metadata": {},
   "outputs": [],
   "source": [
    "import dice_ml as dice\n",
    "import alibi\n",
    "from dice_ml.utils import helpers as utils  # using helper functions as utility functions\n",
    "from alibi.explainers import CounterfactualProto, Counterfactual\n",
    "from sklearn.model_selection import train_test_split\n",
    "import pandas as pd\n",
    "pd.set_option('display.max_columns', None)\n",
    "import numpy as np"
   ]
  },
  {
   "cell_type": "markdown",
   "metadata": {},
   "source": [
    "### Loading the data"
   ]
  },
  {
   "cell_type": "markdown",
   "metadata": {},
   "source": [
    "For the purpose of simplicity of understanding, we will use some of the standard examples provided in the original repositories for the frameworks DiCE and Alibi. The datasets used will be derived and transformed datasets from original datasets. The sources of the original datasets will be mentioned and I would strongly recommend to look at the original data for more details on the data description and for a more detailed analysis."
   ]
  },
  {
   "cell_type": "code",
   "execution_count": 3,
   "metadata": {},
   "outputs": [
    {
     "data": {
      "text/html": [
       "<div>\n",
       "<style scoped>\n",
       "    .dataframe tbody tr th:only-of-type {\n",
       "        vertical-align: middle;\n",
       "    }\n",
       "\n",
       "    .dataframe tbody tr th {\n",
       "        vertical-align: top;\n",
       "    }\n",
       "\n",
       "    .dataframe thead th {\n",
       "        text-align: right;\n",
       "    }\n",
       "</style>\n",
       "<table border=\"1\" class=\"dataframe\">\n",
       "  <thead>\n",
       "    <tr style=\"text-align: right;\">\n",
       "      <th></th>\n",
       "      <th>age</th>\n",
       "      <th>workclass</th>\n",
       "      <th>education</th>\n",
       "      <th>marital_status</th>\n",
       "      <th>occupation</th>\n",
       "      <th>race</th>\n",
       "      <th>gender</th>\n",
       "      <th>hours_per_week</th>\n",
       "      <th>income</th>\n",
       "    </tr>\n",
       "  </thead>\n",
       "  <tbody>\n",
       "    <tr>\n",
       "      <th>0</th>\n",
       "      <td>28</td>\n",
       "      <td>Private</td>\n",
       "      <td>Bachelors</td>\n",
       "      <td>Single</td>\n",
       "      <td>White-Collar</td>\n",
       "      <td>White</td>\n",
       "      <td>Female</td>\n",
       "      <td>60</td>\n",
       "      <td>0</td>\n",
       "    </tr>\n",
       "    <tr>\n",
       "      <th>1</th>\n",
       "      <td>30</td>\n",
       "      <td>Self-Employed</td>\n",
       "      <td>Assoc</td>\n",
       "      <td>Married</td>\n",
       "      <td>Professional</td>\n",
       "      <td>White</td>\n",
       "      <td>Male</td>\n",
       "      <td>65</td>\n",
       "      <td>1</td>\n",
       "    </tr>\n",
       "    <tr>\n",
       "      <th>2</th>\n",
       "      <td>32</td>\n",
       "      <td>Private</td>\n",
       "      <td>Some-college</td>\n",
       "      <td>Married</td>\n",
       "      <td>White-Collar</td>\n",
       "      <td>White</td>\n",
       "      <td>Male</td>\n",
       "      <td>50</td>\n",
       "      <td>0</td>\n",
       "    </tr>\n",
       "    <tr>\n",
       "      <th>3</th>\n",
       "      <td>20</td>\n",
       "      <td>Private</td>\n",
       "      <td>Some-college</td>\n",
       "      <td>Single</td>\n",
       "      <td>Service</td>\n",
       "      <td>White</td>\n",
       "      <td>Female</td>\n",
       "      <td>35</td>\n",
       "      <td>0</td>\n",
       "    </tr>\n",
       "    <tr>\n",
       "      <th>4</th>\n",
       "      <td>41</td>\n",
       "      <td>Self-Employed</td>\n",
       "      <td>Some-college</td>\n",
       "      <td>Married</td>\n",
       "      <td>White-Collar</td>\n",
       "      <td>White</td>\n",
       "      <td>Male</td>\n",
       "      <td>50</td>\n",
       "      <td>0</td>\n",
       "    </tr>\n",
       "  </tbody>\n",
       "</table>\n",
       "</div>"
      ],
      "text/plain": [
       "   age      workclass     education marital_status    occupation   race  \\\n",
       "0   28        Private     Bachelors         Single  White-Collar  White   \n",
       "1   30  Self-Employed         Assoc        Married  Professional  White   \n",
       "2   32        Private  Some-college        Married  White-Collar  White   \n",
       "3   20        Private  Some-college         Single       Service  White   \n",
       "4   41  Self-Employed  Some-college        Married  White-Collar  White   \n",
       "\n",
       "   gender  hours_per_week  income  \n",
       "0  Female              60       0  \n",
       "1    Male              65       1  \n",
       "2    Male              50       0  \n",
       "3  Female              35       0  \n",
       "4    Male              50       0  "
      ]
     },
     "execution_count": 3,
     "metadata": {},
     "output_type": "execute_result"
    }
   ],
   "source": [
    "data = utils.load_adult_income_dataset()\n",
    "data.head()"
   ]
  },
  {
   "cell_type": "code",
   "execution_count": 4,
   "metadata": {},
   "outputs": [
    {
     "data": {
      "text/plain": [
       "{'age': 'age',\n",
       " 'workclass': 'type of industry (Government, Other/Unknown, Private, Self-Employed)',\n",
       " 'education': 'education level (Assoc, Bachelors, Doctorate, HS-grad, Masters, Prof-school, School, Some-college)',\n",
       " 'marital_status': 'marital status (Divorced, Married, Separated, Single, Widowed)',\n",
       " 'occupation': 'occupation (Blue-Collar, Other/Unknown, Professional, Sales, Service, White-Collar)',\n",
       " 'race': 'white or other race?',\n",
       " 'gender': 'male or female?',\n",
       " 'hours_per_week': 'total work hours per week',\n",
       " 'income': '0 (<=50K) vs 1 (>50K)'}"
      ]
     },
     "execution_count": 4,
     "metadata": {},
     "output_type": "execute_result"
    }
   ],
   "source": [
    "data_description = utils.get_adult_data_info()\n",
    "data_description"
   ]
  },
  {
   "cell_type": "code",
   "execution_count": 5,
   "metadata": {},
   "outputs": [
    {
     "data": {
      "text/plain": [
       "Index(['age', 'workclass', 'education', 'marital_status', 'occupation', 'race',\n",
       "       'gender', 'hours_per_week', 'income'],\n",
       "      dtype='object')"
      ]
     },
     "execution_count": 5,
     "metadata": {},
     "output_type": "execute_result"
    }
   ],
   "source": [
    "data.columns"
   ]
  },
  {
   "cell_type": "code",
   "execution_count": 6,
   "metadata": {},
   "outputs": [
    {
     "data": {
      "text/plain": [
       "(26048, 9)"
      ]
     },
     "execution_count": 6,
     "metadata": {},
     "output_type": "execute_result"
    }
   ],
   "source": [
    "data.shape"
   ]
  },
  {
   "cell_type": "markdown",
   "metadata": {},
   "source": [
    "### About the data"
   ]
  },
  {
   "cell_type": "markdown",
   "metadata": {},
   "source": [
    "**Adult Data Set - UCI Machine Learning Repository**\n",
    "\n",
    "This dataset is also known as the *Census Income* dataset which is used to predict whether the income exceeds $50k/year based on census data. It is a multivariate dataset used for classification based problems containing 14 different features. More details about this data can be found at - [https://archive.ics.uci.edu/ml/datasets/adult](https://archive.ics.uci.edu/ml/datasets/adult)"
   ]
  },
  {
   "cell_type": "markdown",
   "metadata": {},
   "source": [
    "### Using the DiCE framework for Counterfactual Explanations"
   ]
  },
  {
   "cell_type": "markdown",
   "metadata": {},
   "source": [
    "Since the goal of this notebook is to introduce and briefly show usage of certain key frameworks in the context of example based model explainability, I will not focus on importance steps of an end to end ML workflow like EDA, Feature Engineering, Model Training and Evaluation. Mostly I will be using pretained models to demonstrate the generation and working of counterfactual explanations. The DiCE framework will be covered in more details in *Chapter 09 - Other popular XAI frameworks*."
   ]
  },
  {
   "cell_type": "code",
   "execution_count": 7,
   "metadata": {},
   "outputs": [],
   "source": [
    "# Preparing the DiCE data object\n",
    "data_object = dice.Data(dataframe = data,\n",
    "                           continuous_features = ['age', 'hours_per_week'],\n",
    "                           outcome_name = 'income'\n",
    "                          )\n",
    "# Loading pre-trained models using the DiCE framework\n",
    "model = utils.get_adult_income_modelpath()\n",
    "model_object = dice.Model(model_path = model, backend='TF2') # Creating Tensorflow 2.0 model object"
   ]
  },
  {
   "cell_type": "code",
   "execution_count": 8,
   "metadata": {},
   "outputs": [],
   "source": [
    "# Creating DiCE explanation instance\n",
    "dice_explanation = dice.Dice(data_object, model_object, method = 'random')"
   ]
  },
  {
   "cell_type": "code",
   "execution_count": 9,
   "metadata": {},
   "outputs": [],
   "source": [
    "# Let's take a query input to generate Counterfactual Explanations\n",
    "test_query = {'age':28,\n",
    "    'workclass':'Self-Employed',\n",
    "    'education':'HS-grad',\n",
    "    'marital_status':'Single',\n",
    "    'occupation':'Service',\n",
    "    'race': 'Other',\n",
    "    'gender':'Male',\n",
    "    'hours_per_week': 45}"
   ]
  },
  {
   "cell_type": "code",
   "execution_count": 10,
   "metadata": {},
   "outputs": [
    {
     "name": "stdout",
     "output_type": "stream",
     "text": [
      "Diverse Counterfactuals found! total time taken: 00 min 30 sec\n",
      "Query instance (original outcome : 0)\n"
     ]
    },
    {
     "data": {
      "text/html": [
       "<div>\n",
       "<style scoped>\n",
       "    .dataframe tbody tr th:only-of-type {\n",
       "        vertical-align: middle;\n",
       "    }\n",
       "\n",
       "    .dataframe tbody tr th {\n",
       "        vertical-align: top;\n",
       "    }\n",
       "\n",
       "    .dataframe thead th {\n",
       "        text-align: right;\n",
       "    }\n",
       "</style>\n",
       "<table border=\"1\" class=\"dataframe\">\n",
       "  <thead>\n",
       "    <tr style=\"text-align: right;\">\n",
       "      <th></th>\n",
       "      <th>age</th>\n",
       "      <th>workclass</th>\n",
       "      <th>education</th>\n",
       "      <th>marital_status</th>\n",
       "      <th>occupation</th>\n",
       "      <th>race</th>\n",
       "      <th>gender</th>\n",
       "      <th>hours_per_week</th>\n",
       "      <th>income</th>\n",
       "    </tr>\n",
       "  </thead>\n",
       "  <tbody>\n",
       "    <tr>\n",
       "      <th>0</th>\n",
       "      <td>28.0</td>\n",
       "      <td>Self-Employed</td>\n",
       "      <td>HS-grad</td>\n",
       "      <td>Single</td>\n",
       "      <td>Service</td>\n",
       "      <td>Other</td>\n",
       "      <td>Male</td>\n",
       "      <td>45.0</td>\n",
       "      <td>0.082</td>\n",
       "    </tr>\n",
       "  </tbody>\n",
       "</table>\n",
       "</div>"
      ],
      "text/plain": [
       "    age      workclass education marital_status occupation   race gender  \\\n",
       "0  28.0  Self-Employed   HS-grad         Single    Service  Other   Male   \n",
       "\n",
       "   hours_per_week  income  \n",
       "0            45.0   0.082  "
      ]
     },
     "metadata": {},
     "output_type": "display_data"
    },
    {
     "name": "stdout",
     "output_type": "stream",
     "text": [
      "\n",
      "Diverse Counterfactual set without sparsity correction (new outcome:  1.0\n"
     ]
    },
    {
     "data": {
      "text/html": [
       "<div>\n",
       "<style scoped>\n",
       "    .dataframe tbody tr th:only-of-type {\n",
       "        vertical-align: middle;\n",
       "    }\n",
       "\n",
       "    .dataframe tbody tr th {\n",
       "        vertical-align: top;\n",
       "    }\n",
       "\n",
       "    .dataframe thead th {\n",
       "        text-align: right;\n",
       "    }\n",
       "</style>\n",
       "<table border=\"1\" class=\"dataframe\">\n",
       "  <thead>\n",
       "    <tr style=\"text-align: right;\">\n",
       "      <th></th>\n",
       "      <th>age</th>\n",
       "      <th>workclass</th>\n",
       "      <th>education</th>\n",
       "      <th>marital_status</th>\n",
       "      <th>occupation</th>\n",
       "      <th>race</th>\n",
       "      <th>gender</th>\n",
       "      <th>hours_per_week</th>\n",
       "      <th>income</th>\n",
       "    </tr>\n",
       "  </thead>\n",
       "  <tbody>\n",
       "    <tr>\n",
       "      <th>0</th>\n",
       "      <td>-</td>\n",
       "      <td>-</td>\n",
       "      <td>Doctorate</td>\n",
       "      <td>Married</td>\n",
       "      <td>White-Collar</td>\n",
       "      <td>-</td>\n",
       "      <td>-</td>\n",
       "      <td>-</td>\n",
       "      <td>0.886</td>\n",
       "    </tr>\n",
       "    <tr>\n",
       "      <th>1</th>\n",
       "      <td>-</td>\n",
       "      <td>-</td>\n",
       "      <td>Masters</td>\n",
       "      <td>Married</td>\n",
       "      <td>-</td>\n",
       "      <td>-</td>\n",
       "      <td>-</td>\n",
       "      <td>36.0</td>\n",
       "      <td>0.775</td>\n",
       "    </tr>\n",
       "    <tr>\n",
       "      <th>2</th>\n",
       "      <td>-</td>\n",
       "      <td>-</td>\n",
       "      <td>Prof-school</td>\n",
       "      <td>Married</td>\n",
       "      <td>-</td>\n",
       "      <td>-</td>\n",
       "      <td>-</td>\n",
       "      <td>56.0</td>\n",
       "      <td>0.868</td>\n",
       "    </tr>\n",
       "  </tbody>\n",
       "</table>\n",
       "</div>"
      ],
      "text/plain": [
       "  age workclass    education marital_status    occupation race gender  \\\n",
       "0   -         -    Doctorate        Married  White-Collar    -      -   \n",
       "1   -         -      Masters        Married             -    -      -   \n",
       "2   -         -  Prof-school        Married             -    -      -   \n",
       "\n",
       "  hours_per_week income  \n",
       "0              -  0.886  \n",
       "1           36.0  0.775  \n",
       "2           56.0  0.868  "
      ]
     },
     "metadata": {},
     "output_type": "display_data"
    }
   ],
   "source": [
    "# let's generate counterfactual examples\n",
    "dice_exp = dice_explanation.generate_counterfactuals(test_query,\n",
    "                                                     total_CFs=3,\n",
    "                                                     desired_class=\"opposite\",\n",
    "                                                     features_to_vary=[\"education\", \"occupation\", \"workclass\", \"marital_status\", \"hours_per_week\"]\n",
    "                                                    )\n",
    "\n",
    "# And visualize counterfactual explanation\n",
    "dice_exp.visualize_as_dataframe(show_only_changes=True, display_sparse_df=False)"
   ]
  },
  {
   "cell_type": "markdown",
   "metadata": {},
   "source": [
    "From the above observation, we can clearly observe the counterfactual examples to increase income beyond $50K/year. Although we can see that some of the examples can be contradictory and there is not quantitative way to evaluate the best example(which is a major disadvantage of this algorithm). But we can clearly comment that if the person decides to go for higher eductaion or increase his work rate he can get a higher pay. Also, usually it is observed that when a person gets married, the annual income also increases. This is a correlation which has been observed from the data. Increasing the work hours per week and type of occupation to white collar can also lead to increase in the overall income\n",
    "\n",
    "Overall, it is very easy to implement this approach and understand the explanations provided by this approach."
   ]
  },
  {
   "cell_type": "markdown",
   "metadata": {},
   "source": [
    "### Using the Alibi for Counterfactual Explanations"
   ]
  },
  {
   "cell_type": "markdown",
   "metadata": {},
   "source": [
    "Now, let us see how to use the Alibi dataset for generating counterfactual examples. We would need to generate a model first, which is supported by the Alibi framework. The Alibi framework will be covered in more details in *Chapter 09 - Other popular XAI frameworks*."
   ]
  },
  {
   "cell_type": "code",
   "execution_count": 11,
   "metadata": {},
   "outputs": [],
   "source": [
    "# Making some changes in the import\n",
    "import tensorflow as tf\n",
    "tf.get_logger().setLevel(40) # suppress deprecation messages\n",
    "tf.compat.v1.disable_v2_behavior() # disable TF2 behaviour as alibi code still relies on TF1 constructs \n",
    "from tensorflow.keras.layers import Dense, Input, Embedding, Concatenate, Reshape, Dropout, Lambda\n",
    "from tensorflow.keras.models import Model\n",
    "from tensorflow.keras.utils import to_categorical"
   ]
  },
  {
   "cell_type": "code",
   "execution_count": 12,
   "metadata": {},
   "outputs": [],
   "source": [
    "# Dividing data into features and target values\n",
    "target = data['income']\n",
    "features = data.iloc[:,:-1]"
   ]
  },
  {
   "cell_type": "code",
   "execution_count": 13,
   "metadata": {},
   "outputs": [],
   "source": [
    "# Since the dataset consists of many categorical features, we may need to encode these using One-Hot Encoding\n",
    "def encode_features(df, features):\n",
    "    '''\n",
    "    Method for one-hot encoding all selected categorical fields\n",
    "    '''\n",
    "    for f in features:\n",
    "        if(f in df.columns):\n",
    "            encoded = pd.get_dummies(df[f])\n",
    "            encoded = encoded.add_prefix(f + '_')\n",
    "            df = pd.concat([df, encoded], axis=1)\n",
    "        else:\n",
    "            print('Feature not found')\n",
    "            return df\n",
    "        \n",
    "    df.drop(columns=features, inplace = True)\n",
    "    \n",
    "    return df"
   ]
  },
  {
   "cell_type": "code",
   "execution_count": 14,
   "metadata": {},
   "outputs": [
    {
     "data": {
      "text/html": [
       "<div>\n",
       "<style scoped>\n",
       "    .dataframe tbody tr th:only-of-type {\n",
       "        vertical-align: middle;\n",
       "    }\n",
       "\n",
       "    .dataframe tbody tr th {\n",
       "        vertical-align: top;\n",
       "    }\n",
       "\n",
       "    .dataframe thead th {\n",
       "        text-align: right;\n",
       "    }\n",
       "</style>\n",
       "<table border=\"1\" class=\"dataframe\">\n",
       "  <thead>\n",
       "    <tr style=\"text-align: right;\">\n",
       "      <th></th>\n",
       "      <th>age</th>\n",
       "      <th>hours_per_week</th>\n",
       "      <th>workclass_Government</th>\n",
       "      <th>workclass_Other/Unknown</th>\n",
       "      <th>workclass_Private</th>\n",
       "      <th>workclass_Self-Employed</th>\n",
       "      <th>education_Assoc</th>\n",
       "      <th>education_Bachelors</th>\n",
       "      <th>education_Doctorate</th>\n",
       "      <th>education_HS-grad</th>\n",
       "      <th>education_Masters</th>\n",
       "      <th>education_Prof-school</th>\n",
       "      <th>education_School</th>\n",
       "      <th>education_Some-college</th>\n",
       "      <th>marital_status_Divorced</th>\n",
       "      <th>marital_status_Married</th>\n",
       "      <th>marital_status_Separated</th>\n",
       "      <th>marital_status_Single</th>\n",
       "      <th>marital_status_Widowed</th>\n",
       "      <th>occupation_Blue-Collar</th>\n",
       "      <th>occupation_Other/Unknown</th>\n",
       "      <th>occupation_Professional</th>\n",
       "      <th>occupation_Sales</th>\n",
       "      <th>occupation_Service</th>\n",
       "      <th>occupation_White-Collar</th>\n",
       "      <th>race_Other</th>\n",
       "      <th>race_White</th>\n",
       "      <th>gender_Female</th>\n",
       "      <th>gender_Male</th>\n",
       "    </tr>\n",
       "  </thead>\n",
       "  <tbody>\n",
       "    <tr>\n",
       "      <th>0</th>\n",
       "      <td>28</td>\n",
       "      <td>60</td>\n",
       "      <td>0</td>\n",
       "      <td>0</td>\n",
       "      <td>1</td>\n",
       "      <td>0</td>\n",
       "      <td>0</td>\n",
       "      <td>1</td>\n",
       "      <td>0</td>\n",
       "      <td>0</td>\n",
       "      <td>0</td>\n",
       "      <td>0</td>\n",
       "      <td>0</td>\n",
       "      <td>0</td>\n",
       "      <td>0</td>\n",
       "      <td>0</td>\n",
       "      <td>0</td>\n",
       "      <td>1</td>\n",
       "      <td>0</td>\n",
       "      <td>0</td>\n",
       "      <td>0</td>\n",
       "      <td>0</td>\n",
       "      <td>0</td>\n",
       "      <td>0</td>\n",
       "      <td>1</td>\n",
       "      <td>0</td>\n",
       "      <td>1</td>\n",
       "      <td>1</td>\n",
       "      <td>0</td>\n",
       "    </tr>\n",
       "    <tr>\n",
       "      <th>1</th>\n",
       "      <td>30</td>\n",
       "      <td>65</td>\n",
       "      <td>0</td>\n",
       "      <td>0</td>\n",
       "      <td>0</td>\n",
       "      <td>1</td>\n",
       "      <td>1</td>\n",
       "      <td>0</td>\n",
       "      <td>0</td>\n",
       "      <td>0</td>\n",
       "      <td>0</td>\n",
       "      <td>0</td>\n",
       "      <td>0</td>\n",
       "      <td>0</td>\n",
       "      <td>0</td>\n",
       "      <td>1</td>\n",
       "      <td>0</td>\n",
       "      <td>0</td>\n",
       "      <td>0</td>\n",
       "      <td>0</td>\n",
       "      <td>0</td>\n",
       "      <td>1</td>\n",
       "      <td>0</td>\n",
       "      <td>0</td>\n",
       "      <td>0</td>\n",
       "      <td>0</td>\n",
       "      <td>1</td>\n",
       "      <td>0</td>\n",
       "      <td>1</td>\n",
       "    </tr>\n",
       "    <tr>\n",
       "      <th>2</th>\n",
       "      <td>32</td>\n",
       "      <td>50</td>\n",
       "      <td>0</td>\n",
       "      <td>0</td>\n",
       "      <td>1</td>\n",
       "      <td>0</td>\n",
       "      <td>0</td>\n",
       "      <td>0</td>\n",
       "      <td>0</td>\n",
       "      <td>0</td>\n",
       "      <td>0</td>\n",
       "      <td>0</td>\n",
       "      <td>0</td>\n",
       "      <td>1</td>\n",
       "      <td>0</td>\n",
       "      <td>1</td>\n",
       "      <td>0</td>\n",
       "      <td>0</td>\n",
       "      <td>0</td>\n",
       "      <td>0</td>\n",
       "      <td>0</td>\n",
       "      <td>0</td>\n",
       "      <td>0</td>\n",
       "      <td>0</td>\n",
       "      <td>1</td>\n",
       "      <td>0</td>\n",
       "      <td>1</td>\n",
       "      <td>0</td>\n",
       "      <td>1</td>\n",
       "    </tr>\n",
       "    <tr>\n",
       "      <th>3</th>\n",
       "      <td>20</td>\n",
       "      <td>35</td>\n",
       "      <td>0</td>\n",
       "      <td>0</td>\n",
       "      <td>1</td>\n",
       "      <td>0</td>\n",
       "      <td>0</td>\n",
       "      <td>0</td>\n",
       "      <td>0</td>\n",
       "      <td>0</td>\n",
       "      <td>0</td>\n",
       "      <td>0</td>\n",
       "      <td>0</td>\n",
       "      <td>1</td>\n",
       "      <td>0</td>\n",
       "      <td>0</td>\n",
       "      <td>0</td>\n",
       "      <td>1</td>\n",
       "      <td>0</td>\n",
       "      <td>0</td>\n",
       "      <td>0</td>\n",
       "      <td>0</td>\n",
       "      <td>0</td>\n",
       "      <td>1</td>\n",
       "      <td>0</td>\n",
       "      <td>0</td>\n",
       "      <td>1</td>\n",
       "      <td>1</td>\n",
       "      <td>0</td>\n",
       "    </tr>\n",
       "    <tr>\n",
       "      <th>4</th>\n",
       "      <td>41</td>\n",
       "      <td>50</td>\n",
       "      <td>0</td>\n",
       "      <td>0</td>\n",
       "      <td>0</td>\n",
       "      <td>1</td>\n",
       "      <td>0</td>\n",
       "      <td>0</td>\n",
       "      <td>0</td>\n",
       "      <td>0</td>\n",
       "      <td>0</td>\n",
       "      <td>0</td>\n",
       "      <td>0</td>\n",
       "      <td>1</td>\n",
       "      <td>0</td>\n",
       "      <td>1</td>\n",
       "      <td>0</td>\n",
       "      <td>0</td>\n",
       "      <td>0</td>\n",
       "      <td>0</td>\n",
       "      <td>0</td>\n",
       "      <td>0</td>\n",
       "      <td>0</td>\n",
       "      <td>0</td>\n",
       "      <td>1</td>\n",
       "      <td>0</td>\n",
       "      <td>1</td>\n",
       "      <td>0</td>\n",
       "      <td>1</td>\n",
       "    </tr>\n",
       "  </tbody>\n",
       "</table>\n",
       "</div>"
      ],
      "text/plain": [
       "   age  hours_per_week  workclass_Government  workclass_Other/Unknown  \\\n",
       "0   28              60                     0                        0   \n",
       "1   30              65                     0                        0   \n",
       "2   32              50                     0                        0   \n",
       "3   20              35                     0                        0   \n",
       "4   41              50                     0                        0   \n",
       "\n",
       "   workclass_Private  workclass_Self-Employed  education_Assoc  \\\n",
       "0                  1                        0                0   \n",
       "1                  0                        1                1   \n",
       "2                  1                        0                0   \n",
       "3                  1                        0                0   \n",
       "4                  0                        1                0   \n",
       "\n",
       "   education_Bachelors  education_Doctorate  education_HS-grad  \\\n",
       "0                    1                    0                  0   \n",
       "1                    0                    0                  0   \n",
       "2                    0                    0                  0   \n",
       "3                    0                    0                  0   \n",
       "4                    0                    0                  0   \n",
       "\n",
       "   education_Masters  education_Prof-school  education_School  \\\n",
       "0                  0                      0                 0   \n",
       "1                  0                      0                 0   \n",
       "2                  0                      0                 0   \n",
       "3                  0                      0                 0   \n",
       "4                  0                      0                 0   \n",
       "\n",
       "   education_Some-college  marital_status_Divorced  marital_status_Married  \\\n",
       "0                       0                        0                       0   \n",
       "1                       0                        0                       1   \n",
       "2                       1                        0                       1   \n",
       "3                       1                        0                       0   \n",
       "4                       1                        0                       1   \n",
       "\n",
       "   marital_status_Separated  marital_status_Single  marital_status_Widowed  \\\n",
       "0                         0                      1                       0   \n",
       "1                         0                      0                       0   \n",
       "2                         0                      0                       0   \n",
       "3                         0                      1                       0   \n",
       "4                         0                      0                       0   \n",
       "\n",
       "   occupation_Blue-Collar  occupation_Other/Unknown  occupation_Professional  \\\n",
       "0                       0                         0                        0   \n",
       "1                       0                         0                        1   \n",
       "2                       0                         0                        0   \n",
       "3                       0                         0                        0   \n",
       "4                       0                         0                        0   \n",
       "\n",
       "   occupation_Sales  occupation_Service  occupation_White-Collar  race_Other  \\\n",
       "0                 0                   0                        1           0   \n",
       "1                 0                   0                        0           0   \n",
       "2                 0                   0                        1           0   \n",
       "3                 0                   1                        0           0   \n",
       "4                 0                   0                        1           0   \n",
       "\n",
       "   race_White  gender_Female  gender_Male  \n",
       "0           1              1            0  \n",
       "1           1              0            1  \n",
       "2           1              0            1  \n",
       "3           1              1            0  \n",
       "4           1              0            1  "
      ]
     },
     "execution_count": 14,
     "metadata": {},
     "output_type": "execute_result"
    }
   ],
   "source": [
    "features_to_encode = ['workclass', 'education', 'marital_status', 'occupation', 'race', 'gender']\n",
    "encoded = encode_features(features, features_to_encode)\n",
    "features = encoded.copy()\n",
    "features.head()"
   ]
  },
  {
   "cell_type": "code",
   "execution_count": 15,
   "metadata": {},
   "outputs": [],
   "source": [
    "# Splitting the data\n",
    "X_train, X_test, y_train, y_test = train_test_split(features, target, test_size=0.2, random_state=100) # 80% training and 20% test"
   ]
  },
  {
   "cell_type": "code",
   "execution_count": 16,
   "metadata": {},
   "outputs": [],
   "source": [
    "def model():\n",
    "    inp = Input(shape=(X_train.shape[1],))\n",
    "    x = Dense(40, activation='relu')(inp)\n",
    "    x = Dense(40, activation='relu')(x)\n",
    "    op = Dense(2, activation='softmax')(x)\n",
    "    model = Model(inputs=inp, outputs=op)\n",
    "    model.compile(loss='categorical_crossentropy', optimizer='adam', metrics=['accuracy'])\n",
    "    return model"
   ]
  },
  {
   "cell_type": "code",
   "execution_count": 17,
   "metadata": {},
   "outputs": [
    {
     "data": {
      "text/plain": [
       "<tensorflow.python.keras.callbacks.History at 0x23e296b5708>"
      ]
     },
     "execution_count": 17,
     "metadata": {},
     "output_type": "execute_result"
    }
   ],
   "source": [
    "model = model()\n",
    "model.fit(X_train, to_categorical(y_train), batch_size=64, epochs=200, verbose=0)"
   ]
  },
  {
   "cell_type": "code",
   "execution_count": 18,
   "metadata": {},
   "outputs": [
    {
     "data": {
      "text/plain": [
       "0.8357006"
      ]
     },
     "execution_count": 18,
     "metadata": {},
     "output_type": "execute_result"
    }
   ],
   "source": [
    "# Evaluate the trained model\n",
    "model.evaluate(X_test, to_categorical(y_test))[1]"
   ]
  },
  {
   "cell_type": "code",
   "execution_count": 19,
   "metadata": {},
   "outputs": [],
   "source": [
    "query_instance = X_test.iloc[1].values.reshape((1,) + X_test.iloc[1].shape)"
   ]
  },
  {
   "cell_type": "code",
   "execution_count": 20,
   "metadata": {},
   "outputs": [
    {
     "name": "stderr",
     "output_type": "stream",
     "text": [
      "No encoder specified. Using k-d trees to represent class prototypes.\n"
     ]
    }
   ],
   "source": [
    "# Using Alibi's Counterfactual Prototype method to initialize explainer, fit and generate counterfactual\n",
    "cf = CounterfactualProto(model, \n",
    "                         query_instance.shape, \n",
    "                         use_kdtree=True, \n",
    "                         theta=10., \n",
    "                         max_iterations=1000,\n",
    "                         c_init=1., \n",
    "                         c_steps=10)\n",
    "# Fit on the training data\n",
    "cf.fit(X_train.values)\n",
    "# Form explanation on the query data\n",
    "explanation = cf.explain(query_instance)"
   ]
  },
  {
   "cell_type": "code",
   "execution_count": 21,
   "metadata": {},
   "outputs": [
    {
     "name": "stdout",
     "output_type": "stream",
     "text": [
      "Original prediction: 0\n",
      "Counterfactual prediction: 1\n"
     ]
    }
   ],
   "source": [
    "print(f'Original prediction: {explanation.orig_class}')\n",
    "print('Counterfactual prediction: {}'.format(explanation.cf['class']))"
   ]
  },
  {
   "cell_type": "code",
   "execution_count": 23,
   "metadata": {},
   "outputs": [
    {
     "data": {
      "text/html": [
       "<div>\n",
       "<style scoped>\n",
       "    .dataframe tbody tr th:only-of-type {\n",
       "        vertical-align: middle;\n",
       "    }\n",
       "\n",
       "    .dataframe tbody tr th {\n",
       "        vertical-align: top;\n",
       "    }\n",
       "\n",
       "    .dataframe thead th {\n",
       "        text-align: right;\n",
       "    }\n",
       "</style>\n",
       "<table border=\"1\" class=\"dataframe\">\n",
       "  <thead>\n",
       "    <tr style=\"text-align: right;\">\n",
       "      <th></th>\n",
       "      <th>age</th>\n",
       "      <th>hours_per_week</th>\n",
       "      <th>workclass_Government</th>\n",
       "      <th>workclass_Other/Unknown</th>\n",
       "      <th>workclass_Private</th>\n",
       "      <th>workclass_Self-Employed</th>\n",
       "      <th>education_Assoc</th>\n",
       "      <th>education_Bachelors</th>\n",
       "      <th>education_Doctorate</th>\n",
       "      <th>education_HS-grad</th>\n",
       "      <th>education_Masters</th>\n",
       "      <th>education_Prof-school</th>\n",
       "      <th>education_School</th>\n",
       "      <th>education_Some-college</th>\n",
       "      <th>marital_status_Divorced</th>\n",
       "      <th>marital_status_Married</th>\n",
       "      <th>marital_status_Separated</th>\n",
       "      <th>marital_status_Single</th>\n",
       "      <th>marital_status_Widowed</th>\n",
       "      <th>occupation_Blue-Collar</th>\n",
       "      <th>occupation_Other/Unknown</th>\n",
       "      <th>occupation_Professional</th>\n",
       "      <th>occupation_Sales</th>\n",
       "      <th>occupation_Service</th>\n",
       "      <th>occupation_White-Collar</th>\n",
       "      <th>race_Other</th>\n",
       "      <th>race_White</th>\n",
       "      <th>gender_Female</th>\n",
       "      <th>gender_Male</th>\n",
       "    </tr>\n",
       "  </thead>\n",
       "  <tbody>\n",
       "    <tr>\n",
       "      <th>0</th>\n",
       "      <td>28</td>\n",
       "      <td>24</td>\n",
       "      <td>0</td>\n",
       "      <td>0</td>\n",
       "      <td>1</td>\n",
       "      <td>0</td>\n",
       "      <td>0</td>\n",
       "      <td>0</td>\n",
       "      <td>0</td>\n",
       "      <td>0</td>\n",
       "      <td>0</td>\n",
       "      <td>0</td>\n",
       "      <td>0</td>\n",
       "      <td>0</td>\n",
       "      <td>0</td>\n",
       "      <td>0</td>\n",
       "      <td>0</td>\n",
       "      <td>0</td>\n",
       "      <td>0</td>\n",
       "      <td>0</td>\n",
       "      <td>0</td>\n",
       "      <td>0</td>\n",
       "      <td>0</td>\n",
       "      <td>0</td>\n",
       "      <td>0</td>\n",
       "      <td>0</td>\n",
       "      <td>1</td>\n",
       "      <td>1</td>\n",
       "      <td>0</td>\n",
       "    </tr>\n",
       "  </tbody>\n",
       "</table>\n",
       "</div>"
      ],
      "text/plain": [
       "   age  hours_per_week  workclass_Government  workclass_Other/Unknown  \\\n",
       "0   28              24                     0                        0   \n",
       "\n",
       "   workclass_Private  workclass_Self-Employed  education_Assoc  \\\n",
       "0                  1                        0                0   \n",
       "\n",
       "   education_Bachelors  education_Doctorate  education_HS-grad  \\\n",
       "0                    0                    0                  0   \n",
       "\n",
       "   education_Masters  education_Prof-school  education_School  \\\n",
       "0                  0                      0                 0   \n",
       "\n",
       "   education_Some-college  marital_status_Divorced  marital_status_Married  \\\n",
       "0                       0                        0                       0   \n",
       "\n",
       "   marital_status_Separated  marital_status_Single  marital_status_Widowed  \\\n",
       "0                         0                      0                       0   \n",
       "\n",
       "   occupation_Blue-Collar  occupation_Other/Unknown  occupation_Professional  \\\n",
       "0                       0                         0                        0   \n",
       "\n",
       "   occupation_Sales  occupation_Service  occupation_White-Collar  race_Other  \\\n",
       "0                 0                   0                        0           0   \n",
       "\n",
       "   race_White  gender_Female  gender_Male  \n",
       "0           1              1            0  "
      ]
     },
     "execution_count": 23,
     "metadata": {},
     "output_type": "execute_result"
    }
   ],
   "source": [
    "# Now let's see the counterfactual example\n",
    "counterfactual = explanation.cf['X'].astype(int)\n",
    "change = counterfactual - query_instance\n",
    "df_cfe = pd.DataFrame(counterfactual, columns = features.columns)\n",
    "df_cfe"
   ]
  },
  {
   "cell_type": "code",
   "execution_count": 24,
   "metadata": {},
   "outputs": [
    {
     "data": {
      "text/html": [
       "<div>\n",
       "<style scoped>\n",
       "    .dataframe tbody tr th:only-of-type {\n",
       "        vertical-align: middle;\n",
       "    }\n",
       "\n",
       "    .dataframe tbody tr th {\n",
       "        vertical-align: top;\n",
       "    }\n",
       "\n",
       "    .dataframe thead th {\n",
       "        text-align: right;\n",
       "    }\n",
       "</style>\n",
       "<table border=\"1\" class=\"dataframe\">\n",
       "  <thead>\n",
       "    <tr style=\"text-align: right;\">\n",
       "      <th></th>\n",
       "      <th>age</th>\n",
       "      <th>hours_per_week</th>\n",
       "      <th>workclass_Government</th>\n",
       "      <th>workclass_Other/Unknown</th>\n",
       "      <th>workclass_Private</th>\n",
       "      <th>workclass_Self-Employed</th>\n",
       "      <th>education_Assoc</th>\n",
       "      <th>education_Bachelors</th>\n",
       "      <th>education_Doctorate</th>\n",
       "      <th>education_HS-grad</th>\n",
       "      <th>education_Masters</th>\n",
       "      <th>education_Prof-school</th>\n",
       "      <th>education_School</th>\n",
       "      <th>education_Some-college</th>\n",
       "      <th>marital_status_Divorced</th>\n",
       "      <th>marital_status_Married</th>\n",
       "      <th>marital_status_Separated</th>\n",
       "      <th>marital_status_Single</th>\n",
       "      <th>marital_status_Widowed</th>\n",
       "      <th>occupation_Blue-Collar</th>\n",
       "      <th>occupation_Other/Unknown</th>\n",
       "      <th>occupation_Professional</th>\n",
       "      <th>occupation_Sales</th>\n",
       "      <th>occupation_Service</th>\n",
       "      <th>occupation_White-Collar</th>\n",
       "      <th>race_Other</th>\n",
       "      <th>race_White</th>\n",
       "      <th>gender_Female</th>\n",
       "      <th>gender_Male</th>\n",
       "    </tr>\n",
       "  </thead>\n",
       "  <tbody>\n",
       "    <tr>\n",
       "      <th>0</th>\n",
       "      <td>26</td>\n",
       "      <td>24</td>\n",
       "      <td>0</td>\n",
       "      <td>0</td>\n",
       "      <td>1</td>\n",
       "      <td>0</td>\n",
       "      <td>0</td>\n",
       "      <td>0</td>\n",
       "      <td>0</td>\n",
       "      <td>0</td>\n",
       "      <td>0</td>\n",
       "      <td>0</td>\n",
       "      <td>0</td>\n",
       "      <td>1</td>\n",
       "      <td>0</td>\n",
       "      <td>0</td>\n",
       "      <td>0</td>\n",
       "      <td>1</td>\n",
       "      <td>0</td>\n",
       "      <td>0</td>\n",
       "      <td>0</td>\n",
       "      <td>0</td>\n",
       "      <td>0</td>\n",
       "      <td>1</td>\n",
       "      <td>0</td>\n",
       "      <td>0</td>\n",
       "      <td>1</td>\n",
       "      <td>1</td>\n",
       "      <td>0</td>\n",
       "    </tr>\n",
       "  </tbody>\n",
       "</table>\n",
       "</div>"
      ],
      "text/plain": [
       "   age  hours_per_week  workclass_Government  workclass_Other/Unknown  \\\n",
       "0   26              24                     0                        0   \n",
       "\n",
       "   workclass_Private  workclass_Self-Employed  education_Assoc  \\\n",
       "0                  1                        0                0   \n",
       "\n",
       "   education_Bachelors  education_Doctorate  education_HS-grad  \\\n",
       "0                    0                    0                  0   \n",
       "\n",
       "   education_Masters  education_Prof-school  education_School  \\\n",
       "0                  0                      0                 0   \n",
       "\n",
       "   education_Some-college  marital_status_Divorced  marital_status_Married  \\\n",
       "0                       1                        0                       0   \n",
       "\n",
       "   marital_status_Separated  marital_status_Single  marital_status_Widowed  \\\n",
       "0                         0                      1                       0   \n",
       "\n",
       "   occupation_Blue-Collar  occupation_Other/Unknown  occupation_Professional  \\\n",
       "0                       0                         0                        0   \n",
       "\n",
       "   occupation_Sales  occupation_Service  occupation_White-Collar  race_Other  \\\n",
       "0                 0                   1                        0           0   \n",
       "\n",
       "   race_White  gender_Female  gender_Male  \n",
       "0           1              1            0  "
      ]
     },
     "execution_count": 24,
     "metadata": {},
     "output_type": "execute_result"
    }
   ],
   "source": [
    "df_query = pd.DataFrame(query_instance, columns = features.columns)\n",
    "df_query"
   ]
  },
  {
   "cell_type": "code",
   "execution_count": 25,
   "metadata": {},
   "outputs": [
    {
     "name": "stdout",
     "output_type": "stream",
     "text": [
      "The feature age has to change by 2\n",
      "The feature education_Some-college has to change by -1\n",
      "The feature marital_status_Single has to change by -1\n",
      "The feature occupation_Service has to change by -1\n"
     ]
    }
   ],
   "source": [
    "# Let's see the difference between counterfactual and original instance\n",
    "for i, feature_names in enumerate(features.columns):\n",
    "    if change[0][i] != 0:\n",
    "        print(f\"The feature {feature_names} has to change by {change[0][i]}\")"
   ]
  },
  {
   "cell_type": "markdown",
   "metadata": {},
   "source": [
    "From above observation, we can understand that for the income of the person to increase beyond $50k/year, the person needs to wait for another 2 years, or do a higher education. As observed with the DiCE framework, because of the correlation with marriage and net income from the dataset, the explanation method is suggesting the person to get married. The method is also suggesting to change the occupation type."
   ]
  },
  {
   "cell_type": "markdown",
   "metadata": {},
   "source": [
    "### Final Thoughts"
   ]
  },
  {
   "cell_type": "markdown",
   "metadata": {},
   "source": [
    "Personally, for the structured data, I felt it was easier to implement the explainability method with the DiCE framework rather than the Alibi framework. But both are quite interesting and will be explored in Chapter 9 of the book to tackle other problems. This was just an introductory example to get your hands dirty!"
   ]
  },
  {
   "cell_type": "markdown",
   "metadata": {},
   "source": [
    "### Reference"
   ]
  },
  {
   "cell_type": "markdown",
   "metadata": {},
   "source": [
    "1. [Diverse Counterfactual Explanations (DiCE) for ML](https://github.com/interpretml/DiCE) - Ramaravind K. Mothilal, Amit Sharma, and Chenhao Tan (2020). Explaining machine learning classifiers through diverse counterfactual explanations. *Proceedings of the 2020 Conference on Fairness, Accountability, and Transparency.*\n",
    "2. [Alibi](https://github.com/SeldonIO/alibi) - Klaise et. al - Alibi Explain: Algorithms for Explaining Machine Learning Models\n",
    "3. Adult Income Dataset from UCI Machine Learning Repository - https://archive.ics.uci.edu/ml/datasets/adult\n",
    "4. Some of the utility functions are taken from the GitHub Repository of the author - https://github.com/adib0073"
   ]
  },
  {
   "cell_type": "code",
   "execution_count": null,
   "metadata": {},
   "outputs": [],
   "source": []
  }
 ],
 "metadata": {
  "kernelspec": {
   "display_name": "Python 3",
   "language": "python",
   "name": "python3"
  },
  "language_info": {
   "codemirror_mode": {
    "name": "ipython",
    "version": 3
   },
   "file_extension": ".py",
   "mimetype": "text/x-python",
   "name": "python",
   "nbconvert_exporter": "python",
   "pygments_lexer": "ipython3",
   "version": "3.7.7"
  }
 },
 "nbformat": 4,
 "nbformat_minor": 4
}
