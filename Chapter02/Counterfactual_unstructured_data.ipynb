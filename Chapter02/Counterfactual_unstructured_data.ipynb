{
 "cells": [
  {
   "cell_type": "markdown",
   "metadata": {},
   "source": [
    "## Counterfactual Explanation on Unstructured Data\n",
    "### CHAPTER 02 - \n",
    "\n",
    "\n",
    "\n",
    "\n",
    "\n",
    "\n",
    "\n",
    "\n",
    "\n"
   ]
  },
  {
   "cell_type": "markdown",
   "metadata": {},
   "source": [
    "### Objective\n",
    "\n",
    "In this notebook, we will try to implement some of the concepts related to Counterfactual explanations part of the Example based explainability methods discussed in Chapter 2 - Model Explainability Methods on unstructured image data. Please note that these are some introductory examples, so that beginner learners can also easily execute and learn these approaches. We will particularly try out the Counterfactuals guided by prototypes method as introduced in the research work, [Interpretable Counterfactual Explanations Guided by Prototypes](https://arxiv.org/abs/1907.02584)."
   ]
  },
  {
   "cell_type": "markdown",
   "metadata": {},
   "source": [
    "### Installing the modules"
   ]
  },
  {
   "cell_type": "markdown",
   "metadata": {},
   "source": [
    "Install the following libraries in Google Colab or your local environment, if not already installed."
   ]
  },
  {
   "cell_type": "code",
   "execution_count": 1,
   "metadata": {},
   "outputs": [],
   "source": [
    "!pip install --upgrade pandas numpy scikit-learn tensorflow alibi"
   ]
  },
  {
   "cell_type": "markdown",
   "metadata": {},
   "source": [
    "### Loading the modules"
   ]
  },
  {
   "cell_type": "code",
   "execution_count": 2,
   "metadata": {},
   "outputs": [],
   "source": [
    "import alibi\n",
    "from alibi.explainers import CounterfactualProto, Counterfactual\n",
    "from sklearn.model_selection import train_test_split\n",
    "import pandas as pd\n",
    "pd.set_option('display.max_columns', None)\n",
    "import numpy as np\n",
    "import matplotlib.pyplot as plt\n",
    "import tensorflow as tf\n",
    "tf.get_logger().setLevel(40) # suppress deprecation messages\n",
    "tf.compat.v1.disable_v2_behavior() # disable TF2 behaviour as alibi code still relies on TF1 constructs  \n",
    "from tensorflow.keras.layers import Conv2D, Dense, Dropout, Flatten, MaxPooling2D, Input, UpSampling2D\n",
    "from tensorflow.keras.models import Model, load_model\n",
    "from tensorflow.keras.utils import to_categorical\n",
    "import tensorflow.keras.datasets as Dataset"
   ]
  },
  {
   "cell_type": "code",
   "execution_count": 3,
   "metadata": {},
   "outputs": [
    {
     "name": "stdout",
     "output_type": "stream",
     "text": [
      "TF version:  2.3.1\n",
      "Eager execution enabled:  False\n"
     ]
    }
   ],
   "source": [
    "# Let's validate the tensorflow version, as otherwise the framework might have some conflicts if it is not supported.\n",
    "print('TF version: ', tf.__version__)\n",
    "print('Eager execution enabled: ', tf.executing_eagerly()) # False"
   ]
  },
  {
   "cell_type": "markdown",
   "metadata": {},
   "source": [
    "### About the data"
   ]
  },
  {
   "cell_type": "markdown",
   "metadata": {},
   "source": [
    "**THE MNIST DATABASE of of handwritten digits**\n",
    "\n",
    "For this example, we will use the very popular [MNIST dataset](http://yann.lecun.com/exdb/mnist/) which gives us compressed images of hand written digits. The MNIST dataset is one of the most popular dataset for ML and DL beginers which helps the learners to focus mostly on the concept, rather than spending too much time in the data processing and transformation activities. "
   ]
  },
  {
   "cell_type": "markdown",
   "metadata": {},
   "source": [
    "### Loading the data"
   ]
  },
  {
   "cell_type": "markdown",
   "metadata": {},
   "source": [
    "For the purpose of simplicity of understanding, we will use some of the standard examples provided in the original repositories for the Alibi framework. The datasets used might be derived and transformed datasets from original datasets. The sources of the original datasets will be mentioned and I would strongly recommend to look at the original data for more details on the data description and for a more detailed analysis."
   ]
  },
  {
   "cell_type": "code",
   "execution_count": 4,
   "metadata": {},
   "outputs": [],
   "source": [
    "mnist_data = Dataset.mnist.load_data()\n",
    "train_data, test_data = mnist_data\n",
    "x_train, y_train = train_data\n",
    "x_test, y_test = test_data"
   ]
  },
  {
   "cell_type": "code",
   "execution_count": 5,
   "metadata": {},
   "outputs": [
    {
     "name": "stdout",
     "output_type": "stream",
     "text": [
      "Shape of training data features:(60000, 28, 28)\n",
      "Shape of test data features:(10000, 28, 28)\n"
     ]
    }
   ],
   "source": [
    "print(f\"Shape of training data features:{x_train.shape}\")\n",
    "print(f\"Shape of test data features:{x_test.shape}\")"
   ]
  },
  {
   "cell_type": "markdown",
   "metadata": {},
   "source": [
    "So, we can see that each image is of dimension (28x28) and there are 60,000 samples for training data and 10,000 samples for test data. Now, let's even visualize some samples."
   ]
  },
  {
   "cell_type": "code",
   "execution_count": 6,
   "metadata": {},
   "outputs": [
    {
     "data": {
      "image/png": "[encoded data removed]",
      "text/plain": [
       "<Figure size 720x288 with 5 Axes>"
      ]
     },
     "metadata": {
      "needs_background": "light"
     },
     "output_type": "display_data"
    }
   ],
   "source": [
    "plt.figure(figsize=(10,4))\n",
    "for index, (image, label) in enumerate(zip(x_train[0:5], y_train[0:5])):\n",
    "    plt.subplot(1, 5, index + 1)\n",
    "    plt.imshow(image, cmap=plt.cm.gray)\n",
    "    plt.title('Training: %i\\n' % label, fontsize = 10)"
   ]
  },
  {
   "cell_type": "markdown",
   "metadata": {},
   "source": [
    "### Data Preparation"
   ]
  },
  {
   "cell_type": "markdown",
   "metadata": {},
   "source": [
    "Let's prepare the data before modeling it."
   ]
  },
  {
   "cell_type": "code",
   "execution_count": 7,
   "metadata": {},
   "outputs": [
    {
     "name": "stdout",
     "output_type": "stream",
     "text": [
      "x_train shape: (60000, 28, 28, 1) x_test shape: (10000, 28, 28, 1)\n"
     ]
    }
   ],
   "source": [
    "x_train = x_train/ 255.0\n",
    "x_test = x_test / 255.0\n",
    "\n",
    "x_train = x_train.reshape(60000, 28, 28, 1)\n",
    "x_test = x_test.reshape(10000, 28, 28, 1)\n",
    "print('x_train shape:', x_train.shape, 'x_test shape:', x_test.shape)\n",
    "\n",
    "# Using Min-Max Normalizer\n",
    "MIN, MAX = -.5, .5\n",
    "x_train = ((x_train - x_train.min()) / (x_train.max() - x_train.min())) * (MAX - MIN) + MIN\n",
    "x_test = ((x_test - x_test.min()) / (x_test.max() - x_test.min())) * (MAX - MIN) + MIN"
   ]
  },
  {
   "cell_type": "markdown",
   "metadata": {},
   "source": [
    "### Training a CNN model"
   ]
  },
  {
   "cell_type": "code",
   "execution_count": 17,
   "metadata": {},
   "outputs": [
    {
     "data": {
      "text/plain": [
       "<tensorflow.python.keras.callbacks.History at 0x1cda47ab508>"
      ]
     },
     "execution_count": 17,
     "metadata": {},
     "output_type": "execute_result"
    }
   ],
   "source": [
    "x_in = Input(shape=(28, 28, 1))\n",
    "x = Conv2D(filters=64, kernel_size=2, padding='same', activation='relu')(x_in)\n",
    "x = MaxPooling2D(pool_size=2)(x)\n",
    "x = Dropout(0.4)(x)\n",
    "\n",
    "x = Conv2D(filters=32, kernel_size=2, padding='same', activation='relu')(x)\n",
    "x = MaxPooling2D(pool_size=2)(x)\n",
    "x = Dropout(0.4)(x)\n",
    "\n",
    "x = Flatten()(x)\n",
    "\n",
    "x = Dense(256, activation='relu')(x)\n",
    "x = Dropout(0.4)(x)\n",
    "x_out = Dense(10, activation='softmax')(x)\n",
    "\n",
    "model = Model(inputs=x_in, outputs=x_out)\n",
    "model.compile(loss='categorical_crossentropy', optimizer='adam', metrics=['accuracy'])\n",
    "\n",
    "model.fit(x_train, to_categorical(y_train), batch_size=64, epochs=500, verbose=0)"
   ]
  },
  {
   "cell_type": "code",
   "execution_count": 18,
   "metadata": {},
   "outputs": [
    {
     "data": {
      "text/plain": [
       "0.994"
      ]
     },
     "execution_count": 18,
     "metadata": {},
     "output_type": "execute_result"
    }
   ],
   "source": [
    "model.evaluate(x_test, to_categorical(y_test), verbose=0)[1]"
   ]
  },
  {
   "cell_type": "markdown",
   "metadata": {},
   "source": [
    "### Using the Alibi for Counterfactual Explanations for images"
   ]
  },
  {
   "cell_type": "markdown",
   "metadata": {},
   "source": [
    "Now, let us see how to use the Alibi framework for generating counterfactual examples. We would need to generate a model first, which is supported by the Alibi framework. The Alibi framework will be covered in more details in *Chapter 09 - Other popular XAI frameworks* for other problems which will be slightly more complex. We will apply the guided prototype technique which uses an auto-encoder model. So, let's define the auto-encoder model now."
   ]
  },
  {
   "cell_type": "code",
   "execution_count": 19,
   "metadata": {},
   "outputs": [],
   "source": [
    "# Encoder model\n",
    "x = Conv2D(16, (3, 3), activation='relu', padding='same')(x_in)\n",
    "x = Conv2D(16, (3, 3), activation='relu', padding='same')(x)\n",
    "x = MaxPooling2D((2, 2), padding='same')(x)\n",
    "encoded_features = Conv2D(1, (3, 3), activation=None, padding='same')(x)\n",
    "encoder = Model(x_in, encoded_features)"
   ]
  },
  {
   "cell_type": "code",
   "execution_count": 20,
   "metadata": {},
   "outputs": [],
   "source": [
    "# Decoder model\n",
    "dec_in = Input(shape=(14, 14, 1))\n",
    "x = Conv2D(16, (3, 3), activation='relu', padding='same')(dec_in)\n",
    "x = UpSampling2D((2, 2))(x)\n",
    "x = Conv2D(16, (3, 3), activation='relu', padding='same')(x)\n",
    "decoded_features = Conv2D(1, (3, 3), activation=None, padding='same')(x)\n",
    "decoder = Model(dec_in, decoded_features)"
   ]
  },
  {
   "cell_type": "code",
   "execution_count": 21,
   "metadata": {},
   "outputs": [],
   "source": [
    "# Autoencoder model\n",
    "x_out = decoder(encoder(x_in))\n",
    "autoencoder = Model(x_in, x_out)\n",
    "autoencoder.compile(optimizer='adam', loss='mse')"
   ]
  },
  {
   "cell_type": "code",
   "execution_count": 29,
   "metadata": {},
   "outputs": [],
   "source": [
    "# Defining the counterfactual parameters\n",
    "shape = (1, 28, 28, 1)\n",
    "gamma = 100.\n",
    "theta = 100.\n",
    "c_init = 1.\n",
    "c_steps = 2\n",
    "max_iterations = 1000\n",
    "feature_range = (x_train.min(),x_train.max())"
   ]
  },
  {
   "cell_type": "code",
   "execution_count": 33,
   "metadata": {},
   "outputs": [],
   "source": [
    "# Create the explainer, fit to generate counterfactual examples\n",
    "def generate_CFE(query_instance):\n",
    "    '''\n",
    "    Method to generate counterfactual explanations using the guided prototype method\n",
    "    '''\n",
    "    # define a black-box model\n",
    "    predict_fn = lambda x: model.predict(x)\n",
    "    \n",
    "    cf = CounterfactualProto(predict_fn, shape, gamma=gamma, theta=theta,\n",
    "                             ae_model=autoencoder, enc_model=encoder, max_iterations=max_iterations,\n",
    "                             feature_range=feature_range, c_init=c_init, c_steps=c_steps)\n",
    "\n",
    "    cf.fit(x_train)  # find class prototypes\n",
    "    explanation = cf.explain(query_instance, k=3, k_type='mean') # Prototypes defined by knn method\n",
    "    return explanation"
   ]
  },
  {
   "cell_type": "code",
   "execution_count": 34,
   "metadata": {},
   "outputs": [],
   "source": [
    "def generate_examples():\n",
    "    '''\n",
    "    Function to generate CFE for query instances\n",
    "    '''\n",
    "    for i in range(23,24): # Change this value to experiment with other ranges\n",
    "        plt.subplot(1, 2, 1)\n",
    "        plt.title('Original Instance:')\n",
    "        query_instance = x_test[i].reshape((1,) + x_test[i].shape)\n",
    "        plt.imshow(query_instance.reshape(28, 28), cmap=plt.cm.gray);\n",
    "        explanation = generate_CFE(query_instance)\n",
    "        print('Counterfactual prediction: {}'.format(explanation.cf['class']))\n",
    "        print(f'Closest prototype class: {explanation.id_proto}')\n",
    "        plt.subplot(1, 2, 2)\n",
    "        plt.title('Generated CFE:')\n",
    "        plt.imshow(explanation.cf['X'].reshape(28, 28), cmap=plt.cm.gray);\n",
    "        plt.show()"
   ]
  },
  {
   "cell_type": "code",
   "execution_count": 35,
   "metadata": {},
   "outputs": [
    {
     "name": "stdout",
     "output_type": "stream",
     "text": [
      "Counterfactual prediction: 9\n",
      "Closest prototype class: 6\n"
     ]
    },
    {
     "data": {
      "image/png": "[encoded data removed]",
      "text/plain": [
       "<Figure size 432x288 with 2 Axes>"
      ]
     },
     "metadata": {
      "needs_background": "light"
     },
     "output_type": "display_data"
    }
   ],
   "source": [
    "generate_examples()"
   ]
  },
  {
   "cell_type": "markdown",
   "metadata": {},
   "source": [
    "From the example above we can clearly see that query instance which is for the hand written digit of 5 and after applying the CFE method, predicted the counterfactual outcome as 9. Although the closest prototype is 6. Intuitively speaking, the hand written digit of 5 can look like 9 or 6 depending on the hand-writing style. So, this method was quite interesting."
   ]
  },
  {
   "cell_type": "markdown",
   "metadata": {},
   "source": [
    "### Final Thoughts"
   ]
  },
  {
   "cell_type": "markdown",
   "metadata": {},
   "source": [
    "Implementing example based explainability can be quite challenging for unstructured data. There are many research works of Visual Counterfactual Explanations, but there are very few robust frameworks as of today to implement CFE with unstructured data. Alibi is one of the very few frameworks which I found out to be very interesting. It will be explored in more details in Chapter 9 of the book to tackle other problems. This was just an introductory example to get started with."
   ]
  },
  {
   "cell_type": "markdown",
   "metadata": {},
   "source": [
    "### Reference"
   ]
  },
  {
   "cell_type": "markdown",
   "metadata": {},
   "source": [
    "1. [Alibi](https://github.com/SeldonIO/alibi) - Klaise et. al - Alibi Explain: Algorithms for Explaining Machine Learning Models\n",
    "2. Some of the utility functions are taken from the GitHub Repository of the author - https://github.com/adib0073"
   ]
  },
  {
   "cell_type": "code",
   "execution_count": null,
   "metadata": {},
   "outputs": [],
   "source": []
  }
 ],
 "metadata": {
  "kernelspec": {
   "display_name": "Python 3",
   "language": "python",
   "name": "python3"
  },
  "language_info": {
   "codemirror_mode": {
    "name": "ipython",
    "version": 3
   },
   "file_extension": ".py",
   "mimetype": "text/x-python",
   "name": "python",
   "nbconvert_exporter": "python",
   "pygments_lexer": "ipython3",
   "version": "3.7.7"
  }
 },
 "nbformat": 4,
 "nbformat_minor": 4
}
