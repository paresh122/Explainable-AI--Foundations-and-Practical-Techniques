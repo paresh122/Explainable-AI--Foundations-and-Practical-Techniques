{
 "cells": [
  {
   "cell_type": "markdown",
   "metadata": {},
   "source": [
    "## InterpretML tutorial for model explainability\n",
    "### CHAPTER 09 "
   ]
  },
  {
   "cell_type": "markdown",
   "metadata": {},
   "source": [
    "### Objective\n",
    "\n",
    "Let's explore another interesting model explainability framework available in Python - [InterpretML from Microsoft](https://interpret.ml/). We will use InterpretML to explain a ML model trained on the [Hepatitis Dataset](https://archive.ics.uci.edu/ml/datasets/hepatitis) similar to the [ELI5 Tutorial](https://github.com/PacktPublishing/Applied-Machine-Learning-Explainability-Techniques/blob/main/Chapter09/ELI5_example.ipynb).\n",
    "\n",
    "InterpretML comes with two different options for model interpretability : Using Explainable Glass-Box Models (EBM) and explainability black-box models with known interpretable techniques. We will cover both the approaches in this notebook."
   ]
  },
  {
   "cell_type": "markdown",
   "metadata": {},
   "source": [
    "### Installing the modules"
   ]
  },
  {
   "cell_type": "markdown",
   "metadata": {},
   "source": [
    "Install the following libraries in Google Colab or your local environment, if not already installed."
   ]
  },
  {
   "cell_type": "code",
   "execution_count": null,
   "metadata": {},
   "outputs": [],
   "source": [
    "!pip install --upgrade pandas numpy matplotlib seaborn scikit-learn interpret"
   ]
  },
  {
   "cell_type": "markdown",
   "metadata": {},
   "source": [
    "### Loading the modules"
   ]
  },
  {
   "cell_type": "code",
   "execution_count": 1,
   "metadata": {},
   "outputs": [],
   "source": [
    "import warnings\n",
    "warnings.filterwarnings('ignore')\n",
    "\n",
    "import pandas as pd\n",
    "pd.set_option('display.max_columns', None)\n",
    "\n",
    "import numpy as np\n",
    "\n",
    "import sklearn\n",
    "from sklearn.model_selection import train_test_split\n",
    "from sklearn.ensemble import RandomForestClassifier\n",
    "from sklearn.metrics import accuracy_score, roc_auc_score\n",
    "\n",
    "import interpret as iml\n",
    "from interpret.glassbox import ExplainableBoostingClassifier, DecisionListClassifier, ClassificationTree\n",
    "from interpret.blackbox import LimeTabular, ShapKernel, MorrisSensitivity, PartialDependence\n",
    "from interpret.data import ClassHistogram\n",
    "\n",
    "import matplotlib.pyplot as plt\n",
    "import seaborn as sns\n",
    "sns.set(style=\"whitegrid\")\n",
    "\n",
    "from IPython import display\n",
    "\n",
    "np.random.seed(123)"
   ]
  },
  {
   "cell_type": "markdown",
   "metadata": {},
   "source": [
    "### About the data"
   ]
  },
  {
   "cell_type": "markdown",
   "metadata": {},
   "source": [
    "**Hepatitis Dataset - UCI Machine Learning Repository**\n",
    "\n",
    "The Hepatitis Dataset is a dataset with 155 records and 20 features of different types for the detection of the hepatitis disease. I have added the dataset in the project reposity for easy discovery but more details about this data can be found at - [https://archive.ics.uci.edu/ml/datasets/hepatitis](https://archive.ics.uci.edu/ml/datasets/hepatitis)"
   ]
  },
  {
   "cell_type": "markdown",
   "metadata": {},
   "source": [
    "### Loading the data"
   ]
  },
  {
   "cell_type": "code",
   "execution_count": 2,
   "metadata": {},
   "outputs": [
    {
     "data": {
      "text/html": [
       "<div>\n",
       "<style scoped>\n",
       "    .dataframe tbody tr th:only-of-type {\n",
       "        vertical-align: middle;\n",
       "    }\n",
       "\n",
       "    .dataframe tbody tr th {\n",
       "        vertical-align: top;\n",
       "    }\n",
       "\n",
       "    .dataframe thead th {\n",
       "        text-align: right;\n",
       "    }\n",
       "</style>\n",
       "<table border=\"1\" class=\"dataframe\">\n",
       "  <thead>\n",
       "    <tr style=\"text-align: right;\">\n",
       "      <th></th>\n",
       "      <th>Class</th>\n",
       "      <th>AGE</th>\n",
       "      <th>SEX</th>\n",
       "      <th>STEROID</th>\n",
       "      <th>ANTIVIRALS</th>\n",
       "      <th>FATIGUE</th>\n",
       "      <th>MALAISE</th>\n",
       "      <th>ANOREXIA</th>\n",
       "      <th>LIVER BIG</th>\n",
       "      <th>LIVER FIRM</th>\n",
       "      <th>SPLEEN PALPABLE</th>\n",
       "      <th>SPIDERS</th>\n",
       "      <th>ASCITES</th>\n",
       "      <th>VARICES</th>\n",
       "      <th>BILIRUBIN</th>\n",
       "      <th>ALK PHOSPHATE</th>\n",
       "      <th>SGOT</th>\n",
       "      <th>ALBUMIN</th>\n",
       "      <th>PROTIME</th>\n",
       "      <th>HISTOLOGY</th>\n",
       "    </tr>\n",
       "  </thead>\n",
       "  <tbody>\n",
       "    <tr>\n",
       "      <th>0</th>\n",
       "      <td>2</td>\n",
       "      <td>30</td>\n",
       "      <td>2</td>\n",
       "      <td>1</td>\n",
       "      <td>2</td>\n",
       "      <td>2</td>\n",
       "      <td>2</td>\n",
       "      <td>2</td>\n",
       "      <td>1</td>\n",
       "      <td>2</td>\n",
       "      <td>2</td>\n",
       "      <td>2</td>\n",
       "      <td>2</td>\n",
       "      <td>2</td>\n",
       "      <td>1.00</td>\n",
       "      <td>85</td>\n",
       "      <td>18</td>\n",
       "      <td>4.0</td>\n",
       "      <td>?</td>\n",
       "      <td>1</td>\n",
       "    </tr>\n",
       "    <tr>\n",
       "      <th>1</th>\n",
       "      <td>2</td>\n",
       "      <td>50</td>\n",
       "      <td>1</td>\n",
       "      <td>1</td>\n",
       "      <td>2</td>\n",
       "      <td>1</td>\n",
       "      <td>2</td>\n",
       "      <td>2</td>\n",
       "      <td>1</td>\n",
       "      <td>2</td>\n",
       "      <td>2</td>\n",
       "      <td>2</td>\n",
       "      <td>2</td>\n",
       "      <td>2</td>\n",
       "      <td>0.90</td>\n",
       "      <td>135</td>\n",
       "      <td>42</td>\n",
       "      <td>3.5</td>\n",
       "      <td>?</td>\n",
       "      <td>1</td>\n",
       "    </tr>\n",
       "    <tr>\n",
       "      <th>2</th>\n",
       "      <td>2</td>\n",
       "      <td>78</td>\n",
       "      <td>1</td>\n",
       "      <td>2</td>\n",
       "      <td>2</td>\n",
       "      <td>1</td>\n",
       "      <td>2</td>\n",
       "      <td>2</td>\n",
       "      <td>2</td>\n",
       "      <td>2</td>\n",
       "      <td>2</td>\n",
       "      <td>2</td>\n",
       "      <td>2</td>\n",
       "      <td>2</td>\n",
       "      <td>0.70</td>\n",
       "      <td>96</td>\n",
       "      <td>32</td>\n",
       "      <td>4.0</td>\n",
       "      <td>?</td>\n",
       "      <td>1</td>\n",
       "    </tr>\n",
       "    <tr>\n",
       "      <th>3</th>\n",
       "      <td>2</td>\n",
       "      <td>31</td>\n",
       "      <td>1</td>\n",
       "      <td>?</td>\n",
       "      <td>1</td>\n",
       "      <td>2</td>\n",
       "      <td>2</td>\n",
       "      <td>2</td>\n",
       "      <td>2</td>\n",
       "      <td>2</td>\n",
       "      <td>2</td>\n",
       "      <td>2</td>\n",
       "      <td>2</td>\n",
       "      <td>2</td>\n",
       "      <td>0.70</td>\n",
       "      <td>46</td>\n",
       "      <td>52</td>\n",
       "      <td>4.0</td>\n",
       "      <td>80</td>\n",
       "      <td>1</td>\n",
       "    </tr>\n",
       "    <tr>\n",
       "      <th>4</th>\n",
       "      <td>2</td>\n",
       "      <td>34</td>\n",
       "      <td>1</td>\n",
       "      <td>2</td>\n",
       "      <td>2</td>\n",
       "      <td>2</td>\n",
       "      <td>2</td>\n",
       "      <td>2</td>\n",
       "      <td>2</td>\n",
       "      <td>2</td>\n",
       "      <td>2</td>\n",
       "      <td>2</td>\n",
       "      <td>2</td>\n",
       "      <td>2</td>\n",
       "      <td>1.00</td>\n",
       "      <td>?</td>\n",
       "      <td>200</td>\n",
       "      <td>4.0</td>\n",
       "      <td>?</td>\n",
       "      <td>1</td>\n",
       "    </tr>\n",
       "  </tbody>\n",
       "</table>\n",
       "</div>"
      ],
      "text/plain": [
       "   Class  AGE  SEX STEROID  ANTIVIRALS FATIGUE MALAISE ANOREXIA LIVER BIG  \\\n",
       "0      2   30    2       1           2       2       2        2         1   \n",
       "1      2   50    1       1           2       1       2        2         1   \n",
       "2      2   78    1       2           2       1       2        2         2   \n",
       "3      2   31    1       ?           1       2       2        2         2   \n",
       "4      2   34    1       2           2       2       2        2         2   \n",
       "\n",
       "  LIVER FIRM SPLEEN PALPABLE SPIDERS ASCITES VARICES BILIRUBIN ALK PHOSPHATE  \\\n",
       "0          2               2       2       2       2      1.00            85   \n",
       "1          2               2       2       2       2      0.90           135   \n",
       "2          2               2       2       2       2      0.70            96   \n",
       "3          2               2       2       2       2      0.70            46   \n",
       "4          2               2       2       2       2      1.00             ?   \n",
       "\n",
       "  SGOT ALBUMIN PROTIME  HISTOLOGY  \n",
       "0   18     4.0       ?          1  \n",
       "1   42     3.5       ?          1  \n",
       "2   32     4.0       ?          1  \n",
       "3   52     4.0      80          1  \n",
       "4  200     4.0       ?          1  "
      ]
     },
     "execution_count": 2,
     "metadata": {},
     "output_type": "execute_result"
    }
   ],
   "source": [
    "data  = pd.read_csv('datasets/Hepatitis_Data/hepatitis.data', header=None)\n",
    "data.columns = ['Class','AGE','SEX','STEROID','ANTIVIRALS','FATIGUE',\n",
    "                'MALAISE','ANOREXIA','LIVER BIG','LIVER FIRM','SPLEEN PALPABLE',\n",
    "                'SPIDERS','ASCITES','VARICES','BILIRUBIN', 'ALK PHOSPHATE',\n",
    "                'SGOT', 'ALBUMIN', 'PROTIME', 'HISTOLOGY'].copy()\n",
    "data.head()"
   ]
  },
  {
   "cell_type": "code",
   "execution_count": 3,
   "metadata": {},
   "outputs": [
    {
     "data": {
      "text/plain": [
       "2    123\n",
       "1     32\n",
       "Name: Class, dtype: int64"
      ]
     },
     "execution_count": 3,
     "metadata": {},
     "output_type": "execute_result"
    },
    {
     "data": {
      "image/png": "[encoded data removed]",
      "text/plain": [
       "<Figure size 432x288 with 1 Axes>"
      ]
     },
     "metadata": {},
     "output_type": "display_data"
    }
   ],
   "source": [
    "data['Class'].value_counts().plot(kind='pie')\n",
    "data['Class'].value_counts()"
   ]
  },
  {
   "cell_type": "code",
   "execution_count": 4,
   "metadata": {},
   "outputs": [
    {
     "data": {
      "text/plain": [
       "(155, 20)"
      ]
     },
     "execution_count": 4,
     "metadata": {},
     "output_type": "execute_result"
    }
   ],
   "source": [
    "data.shape"
   ]
  },
  {
   "cell_type": "code",
   "execution_count": 5,
   "metadata": {},
   "outputs": [
    {
     "name": "stdout",
     "output_type": "stream",
     "text": [
      "1. Title: Hepatitis Domain\n",
      "\n",
      "2. Sources:\n",
      "     (a) unknown\n",
      "     (b) Donor: G.Gong  (Carnegie-Mellon University) via \n",
      "                   Bojan Cestnik\n",
      "                   Jozef Stefan Institute\n",
      "                   Jamova 39\n",
      "                   61000 Ljubljana\n",
      "                   Yugoslavia (tel.: (38)(+61) 214-399 ext.287) }\n",
      "     (c) Date: November, 1988\n",
      "\n",
      "3. Past Usage:\n",
      "    1. Diaconis,P. & Efron,B. (1983).  Computer-Intensive Methods in \n",
      "       Statistics.  Scientific American, Volume 248.\n",
      "       -- Gail Gong reported a 80% classfication accuracy\n",
      "    2. Cestnik,G., Konenenko,I, & Bratko,I. (1987). Assistant-86: A\n",
      "       Knowledge-Elicitation Tool for Sophisticated Users.  In I.Bratko\n",
      "       & N.Lavrac (Eds.) Progress in Machine Learning, 31-45, Sigma Press.\n",
      "       -- Assistant-86: 83% accuracy\n",
      "\n",
      "4. Relevant Information:\n",
      "    Please ask Gail Gong for further information on this database.\n",
      "\n",
      "5. Number of Instances: 155\n",
      "\n",
      "6. Number of Attributes: 20 (including the class attribute)\n",
      "\n",
      "7. Attribute information: \n",
      "     1. Class: DIE, LIVE\n",
      "     2. AGE: 10, 20, 30, 40, 50, 60, 70, 80\n",
      "     3. SEX: male, female\n",
      "     4. STEROID: no, yes\n",
      "     5. ANTIVIRALS: no, yes\n",
      "     6. FATIGUE: no, yes\n",
      "     7. MALAISE: no, yes\n",
      "     8. ANOREXIA: no, yes\n",
      "     9. LIVER BIG: no, yes\n",
      "    10. LIVER FIRM: no, yes\n",
      "    11. SPLEEN PALPABLE: no, yes\n",
      "    12. SPIDERS: no, yes\n",
      "    13. ASCITES: no, yes\n",
      "    14. VARICES: no, yes\n",
      "    15. BILIRUBIN: 0.39, 0.80, 1.20, 2.00, 3.00, 4.00\n",
      "        -- see the note below\n",
      "    16. ALK PHOSPHATE: 33, 80, 120, 160, 200, 250\n",
      "    17. SGOT: 13, 100, 200, 300, 400, 500, \n",
      "    18. ALBUMIN: 2.1, 3.0, 3.8, 4.5, 5.0, 6.0\n",
      "    19. PROTIME: 10, 20, 30, 40, 50, 60, 70, 80, 90\n",
      "    20. HISTOLOGY: no, yes\n",
      "\n",
      "    The BILIRUBIN attribute appears to be continuously-valued.  I checked\n",
      "    this with the donater, Bojan Cestnik, who replied:\n",
      "\n",
      "      About the hepatitis database and BILIRUBIN problem I would like to say\n",
      "      the following: BILIRUBIN is continuous attribute (= the number of it's\n",
      "      \"values\" in the ASDOHEPA.DAT file is negative!!!); \"values\" are quoted\n",
      "      because when speaking about the continuous attribute there is no such \n",
      "      thing as all possible values. However, they represent so called\n",
      "      \"boundary\" values; according to these \"boundary\" values the attribute\n",
      "      can be discretized. At the same time, because of the continious\n",
      "      attribute, one can perform some other test since the continuous\n",
      "      information is preserved. I hope that these lines have at least roughly \n",
      "      answered your question. \n",
      "\n",
      "8. Missing Attribute Values: (indicated by \"?\")\n",
      "     Attribute Number:    Number of Missing Values:\n",
      "                    1:    0\n",
      "                    2:    0\n",
      "                    3:    0\n",
      "                    4:    1\n",
      "                    5:    0\n",
      "                    6:    1\n",
      "                    7:    1\n",
      "                    8:    1\n",
      "                    9:    10\n",
      "\t\t   10:    11\n",
      "\t\t   11:    5\n",
      "\t\t   12:    5\n",
      "\t\t   13:    5\n",
      "\t\t   14:    5\n",
      "\t\t   15:    6\n",
      "\t\t   16:    29\n",
      "\t\t   17:    4\n",
      "\t\t   18:    16\n",
      "\t\t   19:    67\n",
      "\t\t   20:    0\n",
      "\n",
      "9. Class Distribution:\n",
      "     DIE: 32\n",
      "    LIVE: 123\n",
      "\n"
     ]
    }
   ],
   "source": [
    "# Reading the dataset description\n",
    "with open('datasets/Hepatitis_Data/hepatitis.names') as f:\n",
    "    contents = f.read()\n",
    "    print(contents)"
   ]
  },
  {
   "cell_type": "markdown",
   "metadata": {},
   "source": [
    "The dataset contains '?' which we will treat as missing values. But we need to explicitly replace '?' with `np.nan` to treat these values as missing values."
   ]
  },
  {
   "cell_type": "code",
   "execution_count": 6,
   "metadata": {},
   "outputs": [],
   "source": [
    "data = data.replace('?', np.nan)"
   ]
  },
  {
   "cell_type": "code",
   "execution_count": 7,
   "metadata": {},
   "outputs": [
    {
     "name": "stdout",
     "output_type": "stream",
     "text": [
      "<class 'pandas.core.frame.DataFrame'>\n",
      "RangeIndex: 155 entries, 0 to 154\n",
      "Data columns (total 20 columns):\n",
      " #   Column           Non-Null Count  Dtype \n",
      "---  ------           --------------  ----- \n",
      " 0   Class            155 non-null    int64 \n",
      " 1   AGE              155 non-null    int64 \n",
      " 2   SEX              155 non-null    int64 \n",
      " 3   STEROID          154 non-null    object\n",
      " 4   ANTIVIRALS       155 non-null    int64 \n",
      " 5   FATIGUE          154 non-null    object\n",
      " 6   MALAISE          154 non-null    object\n",
      " 7   ANOREXIA         154 non-null    object\n",
      " 8   LIVER BIG        145 non-null    object\n",
      " 9   LIVER FIRM       144 non-null    object\n",
      " 10  SPLEEN PALPABLE  150 non-null    object\n",
      " 11  SPIDERS          150 non-null    object\n",
      " 12  ASCITES          150 non-null    object\n",
      " 13  VARICES          150 non-null    object\n",
      " 14  BILIRUBIN        149 non-null    object\n",
      " 15  ALK PHOSPHATE    126 non-null    object\n",
      " 16  SGOT             151 non-null    object\n",
      " 17  ALBUMIN          139 non-null    object\n",
      " 18  PROTIME          88 non-null     object\n",
      " 19  HISTOLOGY        155 non-null    int64 \n",
      "dtypes: int64(5), object(15)\n",
      "memory usage: 24.3+ KB\n"
     ]
    }
   ],
   "source": [
    "data.info()"
   ]
  },
  {
   "cell_type": "code",
   "execution_count": 8,
   "metadata": {},
   "outputs": [
    {
     "data": {
      "image/png": "[encoded data removed]",
      "text/plain": [
       "<Figure size 584.75x432 with 1 Axes>"
      ]
     },
     "metadata": {},
     "output_type": "display_data"
    }
   ],
   "source": [
    "# Let's check missing values\n",
    "sns.displot(\n",
    "    data=data.isna().melt(value_name=\"missing\"),\n",
    "    y=\"variable\",\n",
    "    hue=\"missing\",\n",
    "    multiple=\"fill\",\n",
    "    height=6,\n",
    "    aspect=1.2\n",
    ")\n",
    "plt.show()"
   ]
  },
  {
   "cell_type": "code",
   "execution_count": 9,
   "metadata": {},
   "outputs": [],
   "source": [
    "numerical_features = ['AGE', 'BILIRUBIN', 'ALK PHOSPHATE', 'SGOT', 'PROTIME', 'ALBUMIN']\n",
    "target = 'Class'\n",
    "categorical_features = list(set(data.columns) - set([target]) - set(numerical_features))"
   ]
  },
  {
   "cell_type": "markdown",
   "metadata": {},
   "source": [
    "From the initial inspection, we can clearly see that the dataset is imbalanced with 79% of the data belonging to LIVE class (class 2) and 21% of the data belonging to DIE class (class 1). The dataset also has missing values, outliers and categorical values, which we need to address during the pre-processing step."
   ]
  },
  {
   "cell_type": "markdown",
   "metadata": {},
   "source": [
    "### Data Preprocessing"
   ]
  },
  {
   "cell_type": "markdown",
   "metadata": {},
   "source": [
    "Let's start the data preprocessing by doing a simplified data imputation. The decision to do data imputation was based on the fact that we have a small dataset with only 155 records. Dropping missing values might not be a good idea. Our simplified data imputation technique will involve replacing missing values with median values for numerical features and mode values for categorical features."
   ]
  },
  {
   "cell_type": "code",
   "execution_count": 10,
   "metadata": {},
   "outputs": [],
   "source": [
    "# Handling missing values\n",
    "## for numerical features\n",
    "for feature in numerical_features:\n",
    "    data[feature] = data[feature].fillna(data[feature].median())\n",
    "## for categorical features\n",
    "for feature in categorical_features:\n",
    "    data[feature] = data[feature].fillna(data[feature].mode()[0])"
   ]
  },
  {
   "cell_type": "code",
   "execution_count": 11,
   "metadata": {},
   "outputs": [],
   "source": [
    "label = data[target].copy()\n",
    "features = data.drop(columns=target)"
   ]
  },
  {
   "cell_type": "code",
   "execution_count": 12,
   "metadata": {},
   "outputs": [
    {
     "data": {
      "image/png": "[encoded data removed]",
      "text/plain": [
       "<Figure size 584.75x432 with 1 Axes>"
      ]
     },
     "metadata": {},
     "output_type": "display_data"
    }
   ],
   "source": [
    "# Let's check missing values\n",
    "sns.displot(\n",
    "    data=features.isna().melt(value_name=\"missing\"),\n",
    "    y=\"variable\",\n",
    "    hue=\"missing\",\n",
    "    multiple=\"fill\",\n",
    "    height=6,\n",
    "    aspect=1.2,\n",
    "    palette= 'GnBu'\n",
    ")\n",
    "plt.show()"
   ]
  },
  {
   "cell_type": "markdown",
   "metadata": {},
   "source": [
    "So, no missing values anymore! Let's perform one-hot encoding now using `pandas.get_dummies()`"
   ]
  },
  {
   "cell_type": "code",
   "execution_count": 13,
   "metadata": {},
   "outputs": [
    {
     "data": {
      "text/html": [
       "<div>\n",
       "<style scoped>\n",
       "    .dataframe tbody tr th:only-of-type {\n",
       "        vertical-align: middle;\n",
       "    }\n",
       "\n",
       "    .dataframe tbody tr th {\n",
       "        vertical-align: top;\n",
       "    }\n",
       "\n",
       "    .dataframe thead th {\n",
       "        text-align: right;\n",
       "    }\n",
       "</style>\n",
       "<table border=\"1\" class=\"dataframe\">\n",
       "  <thead>\n",
       "    <tr style=\"text-align: right;\">\n",
       "      <th></th>\n",
       "      <th>AGE</th>\n",
       "      <th>BILIRUBIN</th>\n",
       "      <th>ALK PHOSPHATE</th>\n",
       "      <th>SGOT</th>\n",
       "      <th>ALBUMIN</th>\n",
       "      <th>PROTIME</th>\n",
       "      <th>ANOREXIA=1</th>\n",
       "      <th>ANOREXIA=2</th>\n",
       "      <th>LIVER BIG=1</th>\n",
       "      <th>LIVER BIG=2</th>\n",
       "      <th>FATIGUE=1</th>\n",
       "      <th>FATIGUE=2</th>\n",
       "      <th>SPIDERS=1</th>\n",
       "      <th>SPIDERS=2</th>\n",
       "      <th>LIVER FIRM=1</th>\n",
       "      <th>LIVER FIRM=2</th>\n",
       "      <th>MALAISE=1</th>\n",
       "      <th>MALAISE=2</th>\n",
       "      <th>VARICES=1</th>\n",
       "      <th>VARICES=2</th>\n",
       "      <th>SPLEEN PALPABLE=1</th>\n",
       "      <th>SPLEEN PALPABLE=2</th>\n",
       "      <th>ASCITES=1</th>\n",
       "      <th>ASCITES=2</th>\n",
       "      <th>ANTIVIRALS=1</th>\n",
       "      <th>ANTIVIRALS=2</th>\n",
       "      <th>HISTOLOGY=1</th>\n",
       "      <th>HISTOLOGY=2</th>\n",
       "      <th>STEROID=1</th>\n",
       "      <th>STEROID=2</th>\n",
       "      <th>SEX=1</th>\n",
       "      <th>SEX=2</th>\n",
       "    </tr>\n",
       "  </thead>\n",
       "  <tbody>\n",
       "    <tr>\n",
       "      <th>0</th>\n",
       "      <td>30</td>\n",
       "      <td>1.00</td>\n",
       "      <td>85</td>\n",
       "      <td>18</td>\n",
       "      <td>4.0</td>\n",
       "      <td>61.0</td>\n",
       "      <td>0</td>\n",
       "      <td>1</td>\n",
       "      <td>1</td>\n",
       "      <td>0</td>\n",
       "      <td>0</td>\n",
       "      <td>1</td>\n",
       "      <td>0</td>\n",
       "      <td>1</td>\n",
       "      <td>0</td>\n",
       "      <td>1</td>\n",
       "      <td>0</td>\n",
       "      <td>1</td>\n",
       "      <td>0</td>\n",
       "      <td>1</td>\n",
       "      <td>0</td>\n",
       "      <td>1</td>\n",
       "      <td>0</td>\n",
       "      <td>1</td>\n",
       "      <td>0</td>\n",
       "      <td>1</td>\n",
       "      <td>1</td>\n",
       "      <td>0</td>\n",
       "      <td>1</td>\n",
       "      <td>0</td>\n",
       "      <td>0</td>\n",
       "      <td>1</td>\n",
       "    </tr>\n",
       "    <tr>\n",
       "      <th>1</th>\n",
       "      <td>50</td>\n",
       "      <td>0.90</td>\n",
       "      <td>135</td>\n",
       "      <td>42</td>\n",
       "      <td>3.5</td>\n",
       "      <td>61.0</td>\n",
       "      <td>0</td>\n",
       "      <td>1</td>\n",
       "      <td>1</td>\n",
       "      <td>0</td>\n",
       "      <td>1</td>\n",
       "      <td>0</td>\n",
       "      <td>0</td>\n",
       "      <td>1</td>\n",
       "      <td>0</td>\n",
       "      <td>1</td>\n",
       "      <td>0</td>\n",
       "      <td>1</td>\n",
       "      <td>0</td>\n",
       "      <td>1</td>\n",
       "      <td>0</td>\n",
       "      <td>1</td>\n",
       "      <td>0</td>\n",
       "      <td>1</td>\n",
       "      <td>0</td>\n",
       "      <td>1</td>\n",
       "      <td>1</td>\n",
       "      <td>0</td>\n",
       "      <td>1</td>\n",
       "      <td>0</td>\n",
       "      <td>1</td>\n",
       "      <td>0</td>\n",
       "    </tr>\n",
       "    <tr>\n",
       "      <th>2</th>\n",
       "      <td>78</td>\n",
       "      <td>0.70</td>\n",
       "      <td>96</td>\n",
       "      <td>32</td>\n",
       "      <td>4.0</td>\n",
       "      <td>61.0</td>\n",
       "      <td>0</td>\n",
       "      <td>1</td>\n",
       "      <td>0</td>\n",
       "      <td>1</td>\n",
       "      <td>1</td>\n",
       "      <td>0</td>\n",
       "      <td>0</td>\n",
       "      <td>1</td>\n",
       "      <td>0</td>\n",
       "      <td>1</td>\n",
       "      <td>0</td>\n",
       "      <td>1</td>\n",
       "      <td>0</td>\n",
       "      <td>1</td>\n",
       "      <td>0</td>\n",
       "      <td>1</td>\n",
       "      <td>0</td>\n",
       "      <td>1</td>\n",
       "      <td>0</td>\n",
       "      <td>1</td>\n",
       "      <td>1</td>\n",
       "      <td>0</td>\n",
       "      <td>0</td>\n",
       "      <td>1</td>\n",
       "      <td>1</td>\n",
       "      <td>0</td>\n",
       "    </tr>\n",
       "    <tr>\n",
       "      <th>3</th>\n",
       "      <td>31</td>\n",
       "      <td>0.70</td>\n",
       "      <td>46</td>\n",
       "      <td>52</td>\n",
       "      <td>4.0</td>\n",
       "      <td>80</td>\n",
       "      <td>0</td>\n",
       "      <td>1</td>\n",
       "      <td>0</td>\n",
       "      <td>1</td>\n",
       "      <td>0</td>\n",
       "      <td>1</td>\n",
       "      <td>0</td>\n",
       "      <td>1</td>\n",
       "      <td>0</td>\n",
       "      <td>1</td>\n",
       "      <td>0</td>\n",
       "      <td>1</td>\n",
       "      <td>0</td>\n",
       "      <td>1</td>\n",
       "      <td>0</td>\n",
       "      <td>1</td>\n",
       "      <td>0</td>\n",
       "      <td>1</td>\n",
       "      <td>1</td>\n",
       "      <td>0</td>\n",
       "      <td>1</td>\n",
       "      <td>0</td>\n",
       "      <td>0</td>\n",
       "      <td>1</td>\n",
       "      <td>1</td>\n",
       "      <td>0</td>\n",
       "    </tr>\n",
       "    <tr>\n",
       "      <th>4</th>\n",
       "      <td>34</td>\n",
       "      <td>1.00</td>\n",
       "      <td>85.0</td>\n",
       "      <td>200</td>\n",
       "      <td>4.0</td>\n",
       "      <td>61.0</td>\n",
       "      <td>0</td>\n",
       "      <td>1</td>\n",
       "      <td>0</td>\n",
       "      <td>1</td>\n",
       "      <td>0</td>\n",
       "      <td>1</td>\n",
       "      <td>0</td>\n",
       "      <td>1</td>\n",
       "      <td>0</td>\n",
       "      <td>1</td>\n",
       "      <td>0</td>\n",
       "      <td>1</td>\n",
       "      <td>0</td>\n",
       "      <td>1</td>\n",
       "      <td>0</td>\n",
       "      <td>1</td>\n",
       "      <td>0</td>\n",
       "      <td>1</td>\n",
       "      <td>0</td>\n",
       "      <td>1</td>\n",
       "      <td>1</td>\n",
       "      <td>0</td>\n",
       "      <td>0</td>\n",
       "      <td>1</td>\n",
       "      <td>1</td>\n",
       "      <td>0</td>\n",
       "    </tr>\n",
       "  </tbody>\n",
       "</table>\n",
       "</div>"
      ],
      "text/plain": [
       "   AGE BILIRUBIN ALK PHOSPHATE SGOT ALBUMIN PROTIME  ANOREXIA=1  ANOREXIA=2  \\\n",
       "0   30      1.00            85   18     4.0    61.0           0           1   \n",
       "1   50      0.90           135   42     3.5    61.0           0           1   \n",
       "2   78      0.70            96   32     4.0    61.0           0           1   \n",
       "3   31      0.70            46   52     4.0      80           0           1   \n",
       "4   34      1.00          85.0  200     4.0    61.0           0           1   \n",
       "\n",
       "   LIVER BIG=1  LIVER BIG=2  FATIGUE=1  FATIGUE=2  SPIDERS=1  SPIDERS=2  \\\n",
       "0            1            0          0          1          0          1   \n",
       "1            1            0          1          0          0          1   \n",
       "2            0            1          1          0          0          1   \n",
       "3            0            1          0          1          0          1   \n",
       "4            0            1          0          1          0          1   \n",
       "\n",
       "   LIVER FIRM=1  LIVER FIRM=2  MALAISE=1  MALAISE=2  VARICES=1  VARICES=2  \\\n",
       "0             0             1          0          1          0          1   \n",
       "1             0             1          0          1          0          1   \n",
       "2             0             1          0          1          0          1   \n",
       "3             0             1          0          1          0          1   \n",
       "4             0             1          0          1          0          1   \n",
       "\n",
       "   SPLEEN PALPABLE=1  SPLEEN PALPABLE=2  ASCITES=1  ASCITES=2  ANTIVIRALS=1  \\\n",
       "0                  0                  1          0          1             0   \n",
       "1                  0                  1          0          1             0   \n",
       "2                  0                  1          0          1             0   \n",
       "3                  0                  1          0          1             1   \n",
       "4                  0                  1          0          1             0   \n",
       "\n",
       "   ANTIVIRALS=2  HISTOLOGY=1  HISTOLOGY=2  STEROID=1  STEROID=2  SEX=1  SEX=2  \n",
       "0             1            1            0          1          0      0      1  \n",
       "1             1            1            0          1          0      1      0  \n",
       "2             1            1            0          0          1      1      0  \n",
       "3             0            1            0          0          1      1      0  \n",
       "4             1            1            0          0          1      1      0  "
      ]
     },
     "execution_count": 13,
     "metadata": {},
     "output_type": "execute_result"
    }
   ],
   "source": [
    "# One-Hot Encoding\n",
    "encoded = pd.get_dummies(features, prefix_sep='=', columns=categorical_features)\n",
    "encoded.head()"
   ]
  },
  {
   "cell_type": "code",
   "execution_count": 14,
   "metadata": {},
   "outputs": [
    {
     "data": {
      "text/plain": [
       "(155, 32)"
      ]
     },
     "execution_count": 14,
     "metadata": {},
     "output_type": "execute_result"
    }
   ],
   "source": [
    "encoded.shape"
   ]
  },
  {
   "cell_type": "code",
   "execution_count": 15,
   "metadata": {},
   "outputs": [
    {
     "data": {
      "text/plain": [
       "32"
      ]
     },
     "execution_count": 15,
     "metadata": {},
     "output_type": "execute_result"
    }
   ],
   "source": [
    "feature_types = (['continuous'] * len(numerical_features)) + (['categorical'] *( 2 * len(categorical_features)))\n",
    "len(feature_types)"
   ]
  },
  {
   "cell_type": "markdown",
   "metadata": {},
   "source": [
    "In this tutorial, we have done the basic bare minimum data preparation steps required for training a model as we are more interested in the model explainability part using InterpretML. But feel free to try out additional data preparation steps to get a better model. In the next part, let us train a Random Forest classifier model."
   ]
  },
  {
   "cell_type": "markdown",
   "metadata": {},
   "source": [
    "### Training a model"
   ]
  },
  {
   "cell_type": "markdown",
   "metadata": {},
   "source": [
    "Now, we will train a Random Forest model with minimum hyper-parameter tuning. I would recommend you to do a more rigorous hyper-parameter tuning to get a better model."
   ]
  },
  {
   "cell_type": "code",
   "execution_count": 16,
   "metadata": {},
   "outputs": [],
   "source": [
    "x_train, x_test, y_train, y_test = train_test_split(encoded, label, test_size=0.3, random_state=123)"
   ]
  },
  {
   "cell_type": "code",
   "execution_count": 65,
   "metadata": {},
   "outputs": [],
   "source": [
    "model = RandomForestClassifier(n_estimators=100, min_samples_split = 2, random_state=123).fit(x_train, y_train)"
   ]
  },
  {
   "cell_type": "code",
   "execution_count": 66,
   "metadata": {},
   "outputs": [
    {
     "data": {
      "text/plain": [
       "0.851063829787234"
      ]
     },
     "execution_count": 66,
     "metadata": {},
     "output_type": "execute_result"
    }
   ],
   "source": [
    "model.score(x_test, y_test)"
   ]
  },
  {
   "cell_type": "code",
   "execution_count": 67,
   "metadata": {},
   "outputs": [],
   "source": [
    "y_pred = model.predict(x_test)"
   ]
  },
  {
   "cell_type": "code",
   "execution_count": 68,
   "metadata": {},
   "outputs": [
    {
     "data": {
      "text/plain": [
       "0.6864864864864866"
      ]
     },
     "execution_count": 68,
     "metadata": {},
     "output_type": "execute_result"
    }
   ],
   "source": [
    "roc_auc_score(y_test, y_pred)"
   ]
  },
  {
   "cell_type": "markdown",
   "metadata": {},
   "source": [
    "So, as we can see from a quick evaluation of the trained model on the test data, we are getting an accuracy of 85% but an AUC score of 70%. This is because the dataset is not balanced and hence a metric like accuracy can be very misleading. \n",
    "Like all other tutorials covered in this chapter, we will focus more on the model explainability part with interpret ml, rather than building an efficient ML model."
   ]
  },
  {
   "cell_type": "markdown",
   "metadata": {},
   "source": [
    "## Model explainability with Interpret ML"
   ]
  },
  {
   "cell_type": "markdown",
   "metadata": {},
   "source": [
    "### a. Explaining with glass-box models which can be used as surrogate explainers"
   ]
  },
  {
   "cell_type": "code",
   "execution_count": 60,
   "metadata": {},
   "outputs": [],
   "source": [
    "# Explore the dataset"
   ]
  },
  {
   "cell_type": "code",
   "execution_count": 69,
   "metadata": {},
   "outputs": [
    {
     "data": {
      "text/html": [
       "<!-- http://127.0.0.1:7001/1623409358408/ -->\n",
       "<iframe src=\"http://127.0.0.1:7001/1623409358408/\" width=100% height=800 frameBorder=\"0\"></iframe>"
      ]
     },
     "metadata": {},
     "output_type": "display_data"
    }
   ],
   "source": [
    "hist = ClassHistogram().explain_data(x_train, y_train, name = 'Training Data')\n",
    "iml.show(hist)"
   ]
  },
  {
   "cell_type": "markdown",
   "metadata": {},
   "source": [
    "#### Explaining with explainable glass-box models"
   ]
  },
  {
   "cell_type": "code",
   "execution_count": 71,
   "metadata": {},
   "outputs": [
    {
     "data": {
      "text/plain": [
       "ExplainableBoostingClassifier(feature_names=['AGE', 'BILIRUBIN',\n",
       "                                             'ALK PHOSPHATE', 'SGOT', 'ALBUMIN',\n",
       "                                             'PROTIME', 'ANOREXIA=1',\n",
       "                                             'ANOREXIA=2', 'LIVER BIG=1',\n",
       "                                             'LIVER BIG=2', 'FATIGUE=1',\n",
       "                                             'FATIGUE=2', 'SPIDERS=1',\n",
       "                                             'SPIDERS=2', 'LIVER FIRM=1',\n",
       "                                             'LIVER FIRM=2', 'MALAISE=1',\n",
       "                                             'MALAISE=2', 'VARICES=1',\n",
       "                                             'VARICES=2', 'SPLEEN PALPABLE=1',\n",
       "                                             'SPLEEN PALPABLE=2', 'ASCITES=1',\n",
       "                                             'ASCITES=2', 'ANTIVI...\n",
       "                                             'continuous', 'continuous',\n",
       "                                             'categorical', 'categorical',\n",
       "                                             'categorical', 'categorical',\n",
       "                                             'categorical', 'categorical',\n",
       "                                             'categorical', 'categorical',\n",
       "                                             'categorical', 'categorical',\n",
       "                                             'categorical', 'categorical',\n",
       "                                             'categorical', 'categorical',\n",
       "                                             'categorical', 'categorical',\n",
       "                                             'categorical', 'categorical',\n",
       "                                             'categorical', 'categorical',\n",
       "                                             'categorical', 'categorical',\n",
       "                                             'categorical', 'categorical', ...])"
      ]
     },
     "execution_count": 71,
     "metadata": {},
     "output_type": "execute_result"
    }
   ],
   "source": [
    "ebm = ExplainableBoostingClassifier(feature_types=feature_types)\n",
    "ebm.fit(x_train, y_train)"
   ]
  },
  {
   "cell_type": "code",
   "execution_count": 72,
   "metadata": {},
   "outputs": [
    {
     "data": {
      "text/html": [
       "<!-- http://127.0.0.1:7001/1622615388744/ -->\n",
       "<iframe src=\"http://127.0.0.1:7001/1622615388744/\" width=100% height=800 frameBorder=\"0\"></iframe>"
      ]
     },
     "metadata": {},
     "output_type": "display_data"
    }
   ],
   "source": [
    "# Showing Global Explanations\n",
    "ebm_global = ebm.explain_global()\n",
    "iml.show(ebm_global)"
   ]
  },
  {
   "cell_type": "code",
   "execution_count": 73,
   "metadata": {},
   "outputs": [
    {
     "data": {
      "text/html": [
       "<!-- http://127.0.0.1:7001/1623471415560/ -->\n",
       "<iframe src=\"http://127.0.0.1:7001/1623471415560/\" width=100% height=800 frameBorder=\"0\"></iframe>"
      ]
     },
     "metadata": {},
     "output_type": "display_data"
    }
   ],
   "source": [
    "# Local explanation using EBM\n",
    "ebm_local = ebm.explain_local(x_test[5:6], y_test[5:6], name = 'Local Explanation')\n",
    "iml.show(ebm_local)"
   ]
  },
  {
   "cell_type": "markdown",
   "metadata": {},
   "source": [
    "Using InterpretML, glass-box models like EBM can be used an surrogate explainers for both global and local explainability."
   ]
  },
  {
   "cell_type": "markdown",
   "metadata": {},
   "source": [
    "#### Explaining with Decision Rule Lists"
   ]
  },
  {
   "cell_type": "code",
   "execution_count": 74,
   "metadata": {},
   "outputs": [
    {
     "data": {
      "text/html": [
       "<!-- http://127.0.0.1:7001/1622615766216/ -->\n",
       "<iframe src=\"http://127.0.0.1:7001/1622615766216/\" width=100% height=800 frameBorder=\"0\"></iframe>"
      ]
     },
     "metadata": {},
     "output_type": "display_data"
    }
   ],
   "source": [
    "dlc = DecisionListClassifier(feature_types=feature_types)\n",
    "dlc.fit(x_train, y_train)\n",
    "\n",
    "# Showing Global Explanations\n",
    "dlc_global = dlc.explain_global()\n",
    "iml.show(dlc_global)"
   ]
  },
  {
   "cell_type": "markdown",
   "metadata": {},
   "source": [
    "#### Explaining with Decision Trees"
   ]
  },
  {
   "cell_type": "code",
   "execution_count": 75,
   "metadata": {},
   "outputs": [
    {
     "data": {
      "text/html": [
       "<!-- http://127.0.0.1:7001/1623489344264/ -->\n",
       "<iframe src=\"http://127.0.0.1:7001/1623489344264/\" width=100% height=800 frameBorder=\"0\"></iframe>"
      ]
     },
     "metadata": {},
     "output_type": "display_data"
    }
   ],
   "source": [
    "dtc = ClassificationTree(feature_types=feature_types)\n",
    "dtc.fit(x_train, y_train)\n",
    "\n",
    "# Showing Global Explanations\n",
    "dtc_global = dtc.explain_global()\n",
    "iml.show(dtc_global)"
   ]
  },
  {
   "cell_type": "code",
   "execution_count": 76,
   "metadata": {
    "scrolled": false
   },
   "outputs": [
    {
     "data": {
      "text/html": [
       "<!-- http://127.0.0.1:7001/1623489673096/ -->\n",
       "<a href=\"http://127.0.0.1:7001/1623489673096/\" target=\"_new\">Open in new window</a><iframe src=\"http://127.0.0.1:7001/1623489673096/\" width=100% height=800 frameBorder=\"0\"></iframe>"
      ]
     },
     "metadata": {},
     "output_type": "display_data"
    }
   ],
   "source": [
    "# Use all white-box global explanations in the same dashboard\n",
    "\n",
    "iml.show([hist, ebm_global, ebm_local, dlc_global, dtc_global])"
   ]
  },
  {
   "cell_type": "markdown",
   "metadata": {},
   "source": [
    "### b. Explaining black-box models using InterpretML"
   ]
  },
  {
   "cell_type": "code",
   "execution_count": 77,
   "metadata": {
    "scrolled": false
   },
   "outputs": [
    {
     "data": {
      "text/html": [
       "<!-- http://127.0.0.1:7001/1623494519688/ -->\n",
       "<iframe src=\"http://127.0.0.1:7001/1623494519688/\" width=100% height=800 frameBorder=\"0\"></iframe>"
      ]
     },
     "metadata": {},
     "output_type": "display_data"
    }
   ],
   "source": [
    "#The InterpretML Blackbox explainers need a predict function, and optionally a dataset\n",
    "lime = LimeTabular(predict_fn=model.predict_proba, data=x_train.astype('float').values, random_state=123)\n",
    "\n",
    "#Select the instances to explain, optionally pass in labels if you have them\n",
    "lime_local = lime.explain_local(x_test[:5].astype('float').values, y_test[:5], name='LIME')\n",
    "\n",
    "iml.show(lime_local)"
   ]
  },
  {
   "cell_type": "code",
   "execution_count": 78,
   "metadata": {},
   "outputs": [
    {
     "data": {
      "application/vnd.jupyter.widget-view+json": {
       "model_id": "50c5ba81dd7440c689ed51a0db9873f3",
       "version_major": 2,
       "version_minor": 0
      },
      "text/plain": [
       "  0%|          | 0/5 [00:00<?, ?it/s]"
      ]
     },
     "metadata": {},
     "output_type": "display_data"
    },
    {
     "data": {
      "text/html": [
       "<!-- http://127.0.0.1:7001/1621373317896/ -->\n",
       "<iframe src=\"http://127.0.0.1:7001/1621373317896/\" width=100% height=800 frameBorder=\"0\"></iframe>"
      ]
     },
     "metadata": {},
     "output_type": "display_data"
    }
   ],
   "source": [
    "# SHAP explanation\n",
    "background_val = np.median(x_train.astype('float').values, axis=0).reshape(1, -1)\n",
    "shap = ShapKernel(predict_fn=model.predict_proba, data=background_val, feature_names= list(x_train.columns))\n",
    "shap_local = shap.explain_local(x_test[:5].astype('float').values, y_test[:5], name='SHAP')\n",
    "iml.show(shap_local)"
   ]
  },
  {
   "cell_type": "code",
   "execution_count": 79,
   "metadata": {
    "scrolled": false
   },
   "outputs": [
    {
     "data": {
      "text/html": [
       "<!-- http://127.0.0.1:7001/1623480299016/ -->\n",
       "<iframe src=\"http://127.0.0.1:7001/1623480299016/\" width=100% height=800 frameBorder=\"0\"></iframe>"
      ]
     },
     "metadata": {},
     "output_type": "display_data"
    }
   ],
   "source": [
    "sensitivity = MorrisSensitivity(predict_fn=model.predict_proba, \n",
    "                                data=x_train.astype('float').values,\n",
    "                                feature_names=list(x_train.columns),\n",
    "                                feature_types=feature_types)\n",
    "sensitivity_global = sensitivity.explain_global(name=\"Global Sensitivity\")\n",
    "\n",
    "iml.show(sensitivity_global)"
   ]
  },
  {
   "cell_type": "code",
   "execution_count": 80,
   "metadata": {},
   "outputs": [
    {
     "data": {
      "text/html": [
       "<!-- http://127.0.0.1:7001/1621391838664/ -->\n",
       "<iframe src=\"http://127.0.0.1:7001/1621391838664/\" width=100% height=800 frameBorder=\"0\"></iframe>"
      ]
     },
     "metadata": {},
     "output_type": "display_data"
    }
   ],
   "source": [
    "pdp = PartialDependence(predict_fn=model.predict_proba,\n",
    "                        data=x_train.astype('float').values,\n",
    "                        feature_names=list(x_train.columns),\n",
    "                        feature_types=feature_types)\n",
    "pdp_global = pdp.explain_global(name='Partial Dependence')\n",
    "\n",
    "iml.show(pdp_global)"
   ]
  },
  {
   "cell_type": "code",
   "execution_count": 81,
   "metadata": {},
   "outputs": [
    {
     "data": {
      "text/html": [
       "<!-- http://127.0.0.1:7001/1621392312840/ -->\n",
       "<a href=\"http://127.0.0.1:7001/1621392312840/\" target=\"_new\">Open in new window</a><iframe src=\"http://127.0.0.1:7001/1621392312840/\" width=100% height=800 frameBorder=\"0\"></iframe>"
      ]
     },
     "metadata": {},
     "output_type": "display_data"
    }
   ],
   "source": [
    "# Putting all the explainers in one dashboard\n",
    "iml.show([lime_local, shap_local, sensitivity_global, pdp_global])"
   ]
  },
  {
   "cell_type": "markdown",
   "metadata": {},
   "source": [
    "### Final Thoughts"
   ]
  },
  {
   "cell_type": "markdown",
   "metadata": {},
   "source": [
    "Overall, the framework has a lot of potential, but it does have some limitations. It is restricted to tabular datasets, it is not compatible with model frameworks like PyTorch, TensorFlow, H20 and I felt the model explanation methods are also limited. Improving these limitation can definitely increase the adoption of this framework. "
   ]
  },
  {
   "cell_type": "markdown",
   "metadata": {},
   "source": [
    "### Reference"
   ]
  },
  {
   "cell_type": "markdown",
   "metadata": {},
   "source": [
    "1. Dataset link - [Hepatitis Dataset](https://archive.ics.uci.edu/ml/datasets/hepatitis)\n",
    "2. InterpretML Github project - https://github.com/interpretml/interpret\n",
    "3. InterpretML Documentation - https://interpret.ml/\n",
    "4. Other notebook examples: https://github.com/interpretml/interpret/tree/develop/examples/python/notebooks\n",
    "5. Some of the utility functions and code are taken from the GitHub Repository of the author - Aditya Bhattacharya https://github.com/adib0073\n",
    "6. Want to connect with the author of this chapter? You can reach out by any means mentioned here: https://aditya-bhattacharya.net/contact-me/"
   ]
  },
  {
   "cell_type": "code",
   "execution_count": null,
   "metadata": {},
   "outputs": [],
   "source": []
  }
 ],
 "metadata": {
  "kernelspec": {
   "display_name": "Python 3",
   "language": "python",
   "name": "python3"
  },
  "language_info": {
   "codemirror_mode": {
    "name": "ipython",
    "version": 3
   },
   "file_extension": ".py",
   "mimetype": "text/x-python",
   "name": "python",
   "nbconvert_exporter": "python",
   "pygments_lexer": "ipython3",
   "version": "3.7.7"
  }
 },
 "nbformat": 4,
 "nbformat_minor": 4
}
